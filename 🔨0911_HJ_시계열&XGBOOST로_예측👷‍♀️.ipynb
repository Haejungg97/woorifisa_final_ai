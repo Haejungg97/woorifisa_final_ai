{
  "nbformat": 4,
  "nbformat_minor": 0,
  "metadata": {
    "colab": {
      "provenance": [],
      "collapsed_sections": [
        "xmunPxQU7gJq",
        "cGVfyJELKZb8",
        "Tb0d_n2SKhkW",
        "J0UpwNLxrjn_",
        "yocCIUbirpOv",
        "AFkEzY7ChRRD"
      ],
      "machine_shape": "hm",
      "include_colab_link": true
    },
    "kernelspec": {
      "name": "python3",
      "display_name": "Python 3"
    },
    "language_info": {
      "name": "python"
    }
  },
  "cells": [
    {
      "cell_type": "markdown",
      "metadata": {
        "id": "view-in-github",
        "colab_type": "text"
      },
      "source": [
        "<a href=\"https://colab.research.google.com/github/Haejungg97/woorifisa_final_ai/blob/main/%F0%9F%94%A80911_HJ_%EC%8B%9C%EA%B3%84%EC%97%B4%26XGBOOST%EB%A1%9C_%EC%98%88%EC%B8%A1%F0%9F%91%B7%E2%80%8D%E2%99%80%EF%B8%8F.ipynb\" target=\"_parent\"><img src=\"https://colab.research.google.com/assets/colab-badge.svg\" alt=\"Open In Colab\"/></a>"
      ]
    },
    {
      "cell_type": "code",
      "execution_count": null,
      "metadata": {
        "id": "j4ImWIJgIO4r"
      },
      "outputs": [],
      "source": []
    },
    {
      "cell_type": "code",
      "source": [
        "import pandas as pd\n",
        "\n",
        "from google.colab import drive\n",
        "drive.mount('/content/drive')"
      ],
      "metadata": {
        "colab": {
          "base_uri": "https://localhost:8080/"
        },
        "id": "xZoQCHRPDRRn",
        "outputId": "6565045e-60c1-455c-e7eb-c51d58c018f8"
      },
      "execution_count": null,
      "outputs": [
        {
          "output_type": "stream",
          "name": "stdout",
          "text": [
            "Mounted at /content/drive\n"
          ]
        }
      ]
    },
    {
      "cell_type": "code",
      "execution_count": null,
      "metadata": {
        "id": "2iA4GSMvCK7I"
      },
      "outputs": [],
      "source": [
        "df = pd.read_csv('/content/drive/MyDrive/[최종프로젝트]_우리FISA/0911/시계열모델링(0911).csv',encoding='UTF8')\n",
        "df_service =pd.read_csv('/content/drive/MyDrive/[최종프로젝트]_우리FISA/0911/업종_분류.csv',encoding='euc-kr')"
      ]
    },
    {
      "cell_type": "markdown",
      "source": [
        "'기간'컬럼이 object형이라 다시 datetime형으로 바꿔줌"
      ],
      "metadata": {
        "id": "BLyg4tESKTwh"
      }
    },
    {
      "cell_type": "code",
      "source": [
        "df['기간'] = pd.to_datetime(df['기간'])"
      ],
      "metadata": {
        "id": "BYxr0pPnKHjZ"
      },
      "execution_count": null,
      "outputs": []
    },
    {
      "cell_type": "code",
      "source": [
        "df.info()"
      ],
      "metadata": {
        "colab": {
          "base_uri": "https://localhost:8080/"
        },
        "id": "ESULfX6KKQEX",
        "outputId": "f9f7e1d6-9ac7-4e4b-9d8f-7a89af2e5930"
      },
      "execution_count": null,
      "outputs": [
        {
          "output_type": "stream",
          "name": "stdout",
          "text": [
            "<class 'pandas.core.frame.DataFrame'>\n",
            "RangeIndex: 398175 entries, 0 to 398174\n",
            "Data columns (total 5 columns):\n",
            " #   Column     Non-Null Count   Dtype         \n",
            "---  ------     --------------   -----         \n",
            " 0   행정동_코드     398175 non-null  int64         \n",
            " 1   업종_대분류_코드  398175 non-null  int64         \n",
            " 2   서비스_업종_코드  398175 non-null  int64         \n",
            " 3   분기당_매출_금액  398175 non-null  int64         \n",
            " 4   기간         398175 non-null  datetime64[ns]\n",
            "dtypes: datetime64[ns](1), int64(4)\n",
            "memory usage: 15.2 MB\n"
          ]
        }
      ]
    },
    {
      "cell_type": "code",
      "source": [
        "df.head(10)"
      ],
      "metadata": {
        "id": "Im4ODkLcKAIi"
      },
      "execution_count": null,
      "outputs": []
    },
    {
      "cell_type": "code",
      "source": [
        "unique_code_count = df['행정동_코드'].nunique()\n",
        "\n",
        "print(\"행정동_코드의 고유한 개수:\", unique_code_count)"
      ],
      "metadata": {
        "colab": {
          "base_uri": "https://localhost:8080/"
        },
        "id": "7aQlIv0cDmZp",
        "outputId": "7a8d42b3-cf3b-4ce8-b146-8661015786f6"
      },
      "execution_count": null,
      "outputs": [
        {
          "output_type": "stream",
          "name": "stdout",
          "text": [
            "행정동_코드의 고유한 개수: 393\n"
          ]
        }
      ]
    },
    {
      "cell_type": "code",
      "source": [
        "unique_code_count = df['서비스_업종_코드'].nunique()\n",
        "\n",
        "print(\"서비스_업종_코드의 고유한 개수:\", unique_code_count)"
      ],
      "metadata": {
        "colab": {
          "base_uri": "https://localhost:8080/"
        },
        "id": "OuYEapdrD6Bs",
        "outputId": "a3cdace3-4d5b-4799-8621-0064650eee73"
      },
      "execution_count": null,
      "outputs": [
        {
          "output_type": "stream",
          "name": "stdout",
          "text": [
            "서비스_업종_코드의 고유한 개수: 81\n"
          ]
        }
      ]
    },
    {
      "cell_type": "markdown",
      "source": [
        "### 묶기\n",
        " '행정동_코드' -> '업종_대분류_코드' -> '서비스_업종_코드' 순서로 그룹화"
      ],
      "metadata": {
        "id": "HzCbpeY6Sjgw"
      }
    },
    {
      "cell_type": "markdown",
      "source": [
        "df_행정동코드_업종코드\n",
        "\n",
        "df_123453\n",
        "\n",
        "df_123445_3\n",
        "\n",
        "df_123454_3\n",
        "\n"
      ],
      "metadata": {
        "id": "Um0KLv29ynGH"
      }
    },
    {
      "cell_type": "markdown",
      "source": [
        "# 1) 데이터프레임 묶기"
      ],
      "metadata": {
        "id": "M0sEmBsC1JgI"
      }
    },
    {
      "cell_type": "code",
      "source": [
        "import pandas as pd\n",
        "\n",
        "\n",
        "# '행정동_코드'로 그룹화하여 분리하고 각각의 데이터프레임으로 저장\n",
        "grouped = df.groupby('행정동_코드')\n",
        "separated_dfs = [group for _, group in grouped]\n",
        "\n",
        "for a in range(len(separated_dfs)):\n",
        "    first_code = separated_dfs[a]['행정동_코드'].iloc[0]\n",
        "\n",
        "    grouped_2 = separated_dfs[a].groupby('업종_대분류_코드')\n",
        "    separated_dfs_2 = [group for _, group in grouped_2]\n",
        "\n",
        "    for c in range(len(separated_dfs_2)):\n",
        "      first_code_2 = separated_dfs_2[c]['업종_대분류_코드'].iloc[0]\n",
        "\n",
        "\n",
        "      # 데이터프레임 이름 만들기\n",
        "      df_name = f\"df_{first_code}_{first_code_2}\"\n",
        "\n",
        "      # 데이터프레임 저장\n",
        "      globals()[df_name] = separated_dfs_2[c]"
      ],
      "metadata": {
        "id": "RBWoqDMjVnIp"
      },
      "execution_count": null,
      "outputs": []
    },
    {
      "cell_type": "markdown",
      "source": [
        "## 접기"
      ],
      "metadata": {
        "id": "xmunPxQU7gJq"
      }
    },
    {
      "cell_type": "code",
      "source": [
        "# import pandas as pd\n",
        "\n",
        "\n",
        "# # '행정동_코드'로 그룹화하여 분리하고 각각의 데이터프레임으로 저장\n",
        "# grouped = df.groupby('행정동_코드')\n",
        "# separated_dfs = [group for _, group in grouped]\n",
        "\n",
        "# for a in range(len(separated_dfs)):\n",
        "#     first_code = separated_dfs[a]['행정동_코드'].iloc[0]\n",
        "#       # globals()[f\"df_{first_code}\"] = separated_dfs[a]\n",
        "\n",
        "#     grouped_2 = separated_dfs[a].groupby('업종_대분류_코드')\n",
        "#     separated_dfs_2 = [group for _, group in grouped_2]\n",
        "\n",
        "#     for c in range(len(separated_dfs_2)):\n",
        "#       first_code_2 = separated_dfs_2[c]['업종_대분류_코드'].iloc[0]\n",
        "#         # globals()[f\"df_{first_code_2}\"] = separated_dfs_2[c]\n",
        "\n",
        "#         # for j in range(len(separated_dfs_2[c])):\n",
        "#         #   grouped_3 = separated_dfs_2[c].groupby('서비스_업종_코드')\n",
        "#         #   separated_dfs_3 = [group for _, group in grouped_3]\n",
        "\n",
        "#         #   for k in range(len(separated_dfs_3)):\n",
        "#         #     first_code_3 = separated_dfs_3[k]['서비스_업종_코드'].iloc[0]\n",
        "\n",
        "\n",
        "#       # 데이터프레임 이름 만들기\n",
        "#       df_name = f\"df_{first_code}_{first_code_2}\"\n",
        "\n",
        "#       # 데이터프레임 저장\n",
        "#       globals()[df_name] = separated_dfs_2[c]"
      ],
      "metadata": {
        "id": "Vjyh5xI37cB0"
      },
      "execution_count": null,
      "outputs": []
    },
    {
      "cell_type": "code",
      "source": [
        "separated_dfs_2[0]"
      ],
      "metadata": {
        "id": "u1M3NWaZFirF"
      },
      "execution_count": null,
      "outputs": []
    },
    {
      "cell_type": "markdown",
      "source": [
        "# xgboost"
      ],
      "metadata": {
        "id": "cGVfyJELKZb8"
      }
    },
    {
      "cell_type": "code",
      "source": [
        "import pandas as pd\n",
        "import xgboost as xgb\n",
        "from sklearn.model_selection import train_test_split\n",
        "from sklearn.metrics import mean_squared_error, r2_score\n",
        "\n",
        "\n",
        "# 예시로 넣은..거...\n",
        "\n",
        "df_11110515_1_100009 = df_11110515_1_100009[['분기당_매출_금액', '기간']]\n",
        "\n",
        "df_11110515_1_100009['기간'] = df_11110515_1_100009['기간'].astype(int)\n",
        "\n",
        "X = df_11110515_1_100009.drop(['분기당_매출_금액'], axis=1)\n",
        "y = df_11110515_1_100009['분기당_매출_금액']\n",
        "\n",
        "\n",
        "X_train, X_test, y_train, y_test = train_test_split(X, y, test_size=0.2, random_state=42)\n",
        "\n",
        "model = xgb.XGBRegressor()\n",
        "model.fit(X_train, y_train)\n",
        "\n",
        "y_pred = model.predict(X_test)\n",
        "\n",
        "mse = mean_squared_error(y_test, y_pred)\n",
        "r2 = r2_score(y_test, y_pred)\n",
        "\n",
        "print(f\"Mean Squared Error: {mse}\")\n",
        "print(f\"R-squared: {r2}\")"
      ],
      "metadata": {
        "colab": {
          "base_uri": "https://localhost:8080/"
        },
        "id": "Djogv_Hz6KSn",
        "outputId": "2d3211b6-26a6-4944-bbb5-8ca63e921b6a"
      },
      "execution_count": null,
      "outputs": [
        {
          "output_type": "stream",
          "name": "stdout",
          "text": [
            "Mean Squared Error: 3422675617666357.5\n",
            "R-squared: 0.6110247417592183\n"
          ]
        }
      ]
    },
    {
      "cell_type": "code",
      "source": [],
      "metadata": {
        "id": "tg-2jniI6KPX"
      },
      "execution_count": null,
      "outputs": []
    },
    {
      "cell_type": "markdown",
      "source": [
        "# 시계열"
      ],
      "metadata": {
        "id": "leeAT9gq-Oo9"
      }
    },
    {
      "cell_type": "code",
      "source": [
        "!pip install pystan\n",
        "!pip install prophet"
      ],
      "metadata": {
        "id": "MF_yzECS-Q19"
      },
      "execution_count": null,
      "outputs": []
    },
    {
      "cell_type": "code",
      "source": [
        "!pip install git+https://github.com/facebook/prophet.git\n"
      ],
      "metadata": {
        "id": "ilFqR-UL-lFh"
      },
      "execution_count": null,
      "outputs": []
    },
    {
      "cell_type": "markdown",
      "source": [
        "## 서비스업종별 예측 매출 그래프가 각각 나와서 보기 힘들다."
      ],
      "metadata": {
        "id": "Tb0d_n2SKhkW"
      }
    },
    {
      "cell_type": "code",
      "source": [
        "import pandas as pd\n",
        "from prophet import Prophet\n",
        "import numpy as np\n",
        "import matplotlib.pyplot as plt\n",
        "\n",
        "data = pd.DataFrame({'ds':separated_dfs_2[0]['기간'],\n",
        "        'y':separated_dfs_2[0]['분기당_매출_금액']})\n",
        "\n",
        "# Prophet 모델\n",
        "model = Prophet(interval_width=0.95)\n",
        "# interval_width 설정\n",
        "## 예측 결과의 신뢰 구간을 제어하는 매개변수임!\n",
        "\n",
        "# 모델 학습\n",
        "model.fit(data)\n",
        "\n",
        "# 테스트 데이터\n",
        "future = model.make_future_dataframe(periods=5, freq='M')\n",
        "\n",
        "# 예측\n",
        "forecast = model.predict(future)\n",
        "\n",
        "# 예측 결과 3개월\n",
        "predicted_values = forecast[['ds', 'yhat','yhat_lower', 'yhat_upper']].tail(10)\n",
        "\n",
        "fig = model.plot(forecast)\n",
        "plt.show()"
      ],
      "metadata": {
        "id": "Lu8MbcbB6KMY"
      },
      "execution_count": null,
      "outputs": []
    },
    {
      "cell_type": "code",
      "source": [
        "predicted_values"
      ],
      "metadata": {
        "id": "yF0vs_VcB2oJ"
      },
      "execution_count": null,
      "outputs": []
    },
    {
      "cell_type": "markdown",
      "source": [
        "# 숨기깅"
      ],
      "metadata": {
        "id": "J0UpwNLxrjn_"
      }
    },
    {
      "cell_type": "code",
      "source": [
        "import pandas as pd\n",
        "\n",
        "# '행정동_코드'로 그룹화하여 분리하고 각각의 데이터프레임으로 저장\n",
        "grouped = df.groupby('행정동_코드')\n",
        "separated_dfs = [group for _, group in grouped]\n"
      ],
      "metadata": {
        "id": "X3ugG2ifysAb"
      },
      "execution_count": null,
      "outputs": []
    },
    {
      "cell_type": "markdown",
      "source": [
        "각각 데이터프레임의 컬럼 '행정동_코드' 있는 첫번째 행의 값이 데이터프레임 이름으로 저장되도록..하는 알고리즘짜기\n",
        "\n",
        "> 예를 들면 '행정동_코드'의 첫번째 값이 1234이면 데이터프레임의 이름이 df_1234로 바뀜"
      ],
      "metadata": {
        "id": "pl0MR2ueL7ya"
      }
    },
    {
      "cell_type": "code",
      "source": [
        "for i in range(len(separated_dfs)):\n",
        "    first_code = separated_dfs[i]['행정동_코드'].iloc[0]\n",
        "    globals()[f\"df_{first_code}\"] = separated_dfs[i]\n",
        "# 필요할수도 안할수도..."
      ],
      "metadata": {
        "id": "YA1w-3YJQJwz"
      },
      "execution_count": null,
      "outputs": []
    },
    {
      "cell_type": "code",
      "source": [
        "# separated_dfs안에 있는 각각의 데이터프레임에서 컬럼 '업종_대분류_코드' 묶기\n",
        "# grouped_2 = df_11110515.groupby('업종_대분류_코드')\n",
        "grouped_2 = separated_dfs[0].groupby('업종_대분류_코드')\n",
        "separated_dfs_2 = [group for _, group in grouped_2]\n",
        "\n",
        "grouped_3 = separated_dfs_2[0].groupby('서비스_업종_코드')\n",
        "separated_dfs_3 = [group for _, group in grouped_3]"
      ],
      "metadata": {
        "id": "WMfarLQcT7g5"
      },
      "execution_count": null,
      "outputs": []
    },
    {
      "cell_type": "code",
      "source": [
        "df_11110515_1_100009"
      ],
      "metadata": {
        "id": "7XbD--Fv1d0b"
      },
      "execution_count": null,
      "outputs": []
    },
    {
      "cell_type": "code",
      "source": [
        "separated_dfs_2[0]"
      ],
      "metadata": {
        "colab": {
          "base_uri": "https://localhost:8080/"
        },
        "id": "7jXGEFL4UQ4G",
        "outputId": "116a667a-002a-495b-9291-aa9fbcec929e"
      },
      "execution_count": null,
      "outputs": [
        {
          "output_type": "execute_result",
          "data": {
            "text/plain": [
              "         행정동_코드  업종_대분류_코드  서비스_업종_코드   분기당_매출_금액         기간\n",
              "0      11110515          1     100001  1650176019 2017-04-01\n",
              "389    11110515          1     100001  1613388679 2017-07-01\n",
              "778    11110515          1     100001  1652533336 2017-10-01\n",
              "1167   11110515          1     100001  1457974800 2018-01-01\n",
              "1555   11110515          1     100001  1595791858 2018-04-01\n",
              "...         ...        ...        ...         ...        ...\n",
              "77645  11110515          1     100010  4179031168 2021-10-01\n",
              "78020  11110515          1     100010  3713105763 2022-01-01\n",
              "78394  11110515          1     100010  4887150206 2022-04-01\n",
              "78768  11110515          1     100010  4584690241 2022-07-01\n",
              "79142  11110515          1     100010  4373829727 2022-10-01\n",
              "\n",
              "[224 rows x 5 columns]"
            ],
            "text/html": [
              "\n",
              "  <div id=\"df-2a34e84c-d27e-47a9-9e0e-600d5c89b271\" class=\"colab-df-container\">\n",
              "    <div>\n",
              "<style scoped>\n",
              "    .dataframe tbody tr th:only-of-type {\n",
              "        vertical-align: middle;\n",
              "    }\n",
              "\n",
              "    .dataframe tbody tr th {\n",
              "        vertical-align: top;\n",
              "    }\n",
              "\n",
              "    .dataframe thead th {\n",
              "        text-align: right;\n",
              "    }\n",
              "</style>\n",
              "<table border=\"1\" class=\"dataframe\">\n",
              "  <thead>\n",
              "    <tr style=\"text-align: right;\">\n",
              "      <th></th>\n",
              "      <th>행정동_코드</th>\n",
              "      <th>업종_대분류_코드</th>\n",
              "      <th>서비스_업종_코드</th>\n",
              "      <th>분기당_매출_금액</th>\n",
              "      <th>기간</th>\n",
              "    </tr>\n",
              "  </thead>\n",
              "  <tbody>\n",
              "    <tr>\n",
              "      <th>0</th>\n",
              "      <td>11110515</td>\n",
              "      <td>1</td>\n",
              "      <td>100001</td>\n",
              "      <td>1650176019</td>\n",
              "      <td>2017-04-01</td>\n",
              "    </tr>\n",
              "    <tr>\n",
              "      <th>389</th>\n",
              "      <td>11110515</td>\n",
              "      <td>1</td>\n",
              "      <td>100001</td>\n",
              "      <td>1613388679</td>\n",
              "      <td>2017-07-01</td>\n",
              "    </tr>\n",
              "    <tr>\n",
              "      <th>778</th>\n",
              "      <td>11110515</td>\n",
              "      <td>1</td>\n",
              "      <td>100001</td>\n",
              "      <td>1652533336</td>\n",
              "      <td>2017-10-01</td>\n",
              "    </tr>\n",
              "    <tr>\n",
              "      <th>1167</th>\n",
              "      <td>11110515</td>\n",
              "      <td>1</td>\n",
              "      <td>100001</td>\n",
              "      <td>1457974800</td>\n",
              "      <td>2018-01-01</td>\n",
              "    </tr>\n",
              "    <tr>\n",
              "      <th>1555</th>\n",
              "      <td>11110515</td>\n",
              "      <td>1</td>\n",
              "      <td>100001</td>\n",
              "      <td>1595791858</td>\n",
              "      <td>2018-04-01</td>\n",
              "    </tr>\n",
              "    <tr>\n",
              "      <th>...</th>\n",
              "      <td>...</td>\n",
              "      <td>...</td>\n",
              "      <td>...</td>\n",
              "      <td>...</td>\n",
              "      <td>...</td>\n",
              "    </tr>\n",
              "    <tr>\n",
              "      <th>77645</th>\n",
              "      <td>11110515</td>\n",
              "      <td>1</td>\n",
              "      <td>100010</td>\n",
              "      <td>4179031168</td>\n",
              "      <td>2021-10-01</td>\n",
              "    </tr>\n",
              "    <tr>\n",
              "      <th>78020</th>\n",
              "      <td>11110515</td>\n",
              "      <td>1</td>\n",
              "      <td>100010</td>\n",
              "      <td>3713105763</td>\n",
              "      <td>2022-01-01</td>\n",
              "    </tr>\n",
              "    <tr>\n",
              "      <th>78394</th>\n",
              "      <td>11110515</td>\n",
              "      <td>1</td>\n",
              "      <td>100010</td>\n",
              "      <td>4887150206</td>\n",
              "      <td>2022-04-01</td>\n",
              "    </tr>\n",
              "    <tr>\n",
              "      <th>78768</th>\n",
              "      <td>11110515</td>\n",
              "      <td>1</td>\n",
              "      <td>100010</td>\n",
              "      <td>4584690241</td>\n",
              "      <td>2022-07-01</td>\n",
              "    </tr>\n",
              "    <tr>\n",
              "      <th>79142</th>\n",
              "      <td>11110515</td>\n",
              "      <td>1</td>\n",
              "      <td>100010</td>\n",
              "      <td>4373829727</td>\n",
              "      <td>2022-10-01</td>\n",
              "    </tr>\n",
              "  </tbody>\n",
              "</table>\n",
              "<p>224 rows × 5 columns</p>\n",
              "</div>\n",
              "    <div class=\"colab-df-buttons\">\n",
              "\n",
              "  <div class=\"colab-df-container\">\n",
              "    <button class=\"colab-df-convert\" onclick=\"convertToInteractive('df-2a34e84c-d27e-47a9-9e0e-600d5c89b271')\"\n",
              "            title=\"Convert this dataframe to an interactive table.\"\n",
              "            style=\"display:none;\">\n",
              "\n",
              "  <svg xmlns=\"http://www.w3.org/2000/svg\" height=\"24px\" viewBox=\"0 -960 960 960\">\n",
              "    <path d=\"M120-120v-720h720v720H120Zm60-500h600v-160H180v160Zm220 220h160v-160H400v160Zm0 220h160v-160H400v160ZM180-400h160v-160H180v160Zm440 0h160v-160H620v160ZM180-180h160v-160H180v160Zm440 0h160v-160H620v160Z\"/>\n",
              "  </svg>\n",
              "    </button>\n",
              "\n",
              "  <style>\n",
              "    .colab-df-container {\n",
              "      display:flex;\n",
              "      gap: 12px;\n",
              "    }\n",
              "\n",
              "    .colab-df-convert {\n",
              "      background-color: #E8F0FE;\n",
              "      border: none;\n",
              "      border-radius: 50%;\n",
              "      cursor: pointer;\n",
              "      display: none;\n",
              "      fill: #1967D2;\n",
              "      height: 32px;\n",
              "      padding: 0 0 0 0;\n",
              "      width: 32px;\n",
              "    }\n",
              "\n",
              "    .colab-df-convert:hover {\n",
              "      background-color: #E2EBFA;\n",
              "      box-shadow: 0px 1px 2px rgba(60, 64, 67, 0.3), 0px 1px 3px 1px rgba(60, 64, 67, 0.15);\n",
              "      fill: #174EA6;\n",
              "    }\n",
              "\n",
              "    .colab-df-buttons div {\n",
              "      margin-bottom: 4px;\n",
              "    }\n",
              "\n",
              "    [theme=dark] .colab-df-convert {\n",
              "      background-color: #3B4455;\n",
              "      fill: #D2E3FC;\n",
              "    }\n",
              "\n",
              "    [theme=dark] .colab-df-convert:hover {\n",
              "      background-color: #434B5C;\n",
              "      box-shadow: 0px 1px 3px 1px rgba(0, 0, 0, 0.15);\n",
              "      filter: drop-shadow(0px 1px 2px rgba(0, 0, 0, 0.3));\n",
              "      fill: #FFFFFF;\n",
              "    }\n",
              "  </style>\n",
              "\n",
              "    <script>\n",
              "      const buttonEl =\n",
              "        document.querySelector('#df-2a34e84c-d27e-47a9-9e0e-600d5c89b271 button.colab-df-convert');\n",
              "      buttonEl.style.display =\n",
              "        google.colab.kernel.accessAllowed ? 'block' : 'none';\n",
              "\n",
              "      async function convertToInteractive(key) {\n",
              "        const element = document.querySelector('#df-2a34e84c-d27e-47a9-9e0e-600d5c89b271');\n",
              "        const dataTable =\n",
              "          await google.colab.kernel.invokeFunction('convertToInteractive',\n",
              "                                                    [key], {});\n",
              "        if (!dataTable) return;\n",
              "\n",
              "        const docLinkHtml = 'Like what you see? Visit the ' +\n",
              "          '<a target=\"_blank\" href=https://colab.research.google.com/notebooks/data_table.ipynb>data table notebook</a>'\n",
              "          + ' to learn more about interactive tables.';\n",
              "        element.innerHTML = '';\n",
              "        dataTable['output_type'] = 'display_data';\n",
              "        await google.colab.output.renderOutput(dataTable, element);\n",
              "        const docLink = document.createElement('div');\n",
              "        docLink.innerHTML = docLinkHtml;\n",
              "        element.appendChild(docLink);\n",
              "      }\n",
              "    </script>\n",
              "  </div>\n",
              "\n",
              "\n",
              "<div id=\"df-cf9ad57b-5038-487f-ac55-b5327d657551\">\n",
              "  <button class=\"colab-df-quickchart\" onclick=\"quickchart('df-cf9ad57b-5038-487f-ac55-b5327d657551')\"\n",
              "            title=\"Suggest charts.\"\n",
              "            style=\"display:none;\">\n",
              "\n",
              "<svg xmlns=\"http://www.w3.org/2000/svg\" height=\"24px\"viewBox=\"0 0 24 24\"\n",
              "     width=\"24px\">\n",
              "    <g>\n",
              "        <path d=\"M19 3H5c-1.1 0-2 .9-2 2v14c0 1.1.9 2 2 2h14c1.1 0 2-.9 2-2V5c0-1.1-.9-2-2-2zM9 17H7v-7h2v7zm4 0h-2V7h2v10zm4 0h-2v-4h2v4z\"/>\n",
              "    </g>\n",
              "</svg>\n",
              "  </button>\n",
              "\n",
              "<style>\n",
              "  .colab-df-quickchart {\n",
              "      --bg-color: #E8F0FE;\n",
              "      --fill-color: #1967D2;\n",
              "      --hover-bg-color: #E2EBFA;\n",
              "      --hover-fill-color: #174EA6;\n",
              "      --disabled-fill-color: #AAA;\n",
              "      --disabled-bg-color: #DDD;\n",
              "  }\n",
              "\n",
              "  [theme=dark] .colab-df-quickchart {\n",
              "      --bg-color: #3B4455;\n",
              "      --fill-color: #D2E3FC;\n",
              "      --hover-bg-color: #434B5C;\n",
              "      --hover-fill-color: #FFFFFF;\n",
              "      --disabled-bg-color: #3B4455;\n",
              "      --disabled-fill-color: #666;\n",
              "  }\n",
              "\n",
              "  .colab-df-quickchart {\n",
              "    background-color: var(--bg-color);\n",
              "    border: none;\n",
              "    border-radius: 50%;\n",
              "    cursor: pointer;\n",
              "    display: none;\n",
              "    fill: var(--fill-color);\n",
              "    height: 32px;\n",
              "    padding: 0;\n",
              "    width: 32px;\n",
              "  }\n",
              "\n",
              "  .colab-df-quickchart:hover {\n",
              "    background-color: var(--hover-bg-color);\n",
              "    box-shadow: 0 1px 2px rgba(60, 64, 67, 0.3), 0 1px 3px 1px rgba(60, 64, 67, 0.15);\n",
              "    fill: var(--button-hover-fill-color);\n",
              "  }\n",
              "\n",
              "  .colab-df-quickchart-complete:disabled,\n",
              "  .colab-df-quickchart-complete:disabled:hover {\n",
              "    background-color: var(--disabled-bg-color);\n",
              "    fill: var(--disabled-fill-color);\n",
              "    box-shadow: none;\n",
              "  }\n",
              "\n",
              "  .colab-df-spinner {\n",
              "    border: 2px solid var(--fill-color);\n",
              "    border-color: transparent;\n",
              "    border-bottom-color: var(--fill-color);\n",
              "    animation:\n",
              "      spin 1s steps(1) infinite;\n",
              "  }\n",
              "\n",
              "  @keyframes spin {\n",
              "    0% {\n",
              "      border-color: transparent;\n",
              "      border-bottom-color: var(--fill-color);\n",
              "      border-left-color: var(--fill-color);\n",
              "    }\n",
              "    20% {\n",
              "      border-color: transparent;\n",
              "      border-left-color: var(--fill-color);\n",
              "      border-top-color: var(--fill-color);\n",
              "    }\n",
              "    30% {\n",
              "      border-color: transparent;\n",
              "      border-left-color: var(--fill-color);\n",
              "      border-top-color: var(--fill-color);\n",
              "      border-right-color: var(--fill-color);\n",
              "    }\n",
              "    40% {\n",
              "      border-color: transparent;\n",
              "      border-right-color: var(--fill-color);\n",
              "      border-top-color: var(--fill-color);\n",
              "    }\n",
              "    60% {\n",
              "      border-color: transparent;\n",
              "      border-right-color: var(--fill-color);\n",
              "    }\n",
              "    80% {\n",
              "      border-color: transparent;\n",
              "      border-right-color: var(--fill-color);\n",
              "      border-bottom-color: var(--fill-color);\n",
              "    }\n",
              "    90% {\n",
              "      border-color: transparent;\n",
              "      border-bottom-color: var(--fill-color);\n",
              "    }\n",
              "  }\n",
              "</style>\n",
              "\n",
              "  <script>\n",
              "    async function quickchart(key) {\n",
              "      const quickchartButtonEl =\n",
              "        document.querySelector('#' + key + ' button');\n",
              "      quickchartButtonEl.disabled = true;  // To prevent multiple clicks.\n",
              "      quickchartButtonEl.classList.add('colab-df-spinner');\n",
              "      try {\n",
              "        const charts = await google.colab.kernel.invokeFunction(\n",
              "            'suggestCharts', [key], {});\n",
              "      } catch (error) {\n",
              "        console.error('Error during call to suggestCharts:', error);\n",
              "      }\n",
              "      quickchartButtonEl.classList.remove('colab-df-spinner');\n",
              "      quickchartButtonEl.classList.add('colab-df-quickchart-complete');\n",
              "    }\n",
              "    (() => {\n",
              "      let quickchartButtonEl =\n",
              "        document.querySelector('#df-cf9ad57b-5038-487f-ac55-b5327d657551 button');\n",
              "      quickchartButtonEl.style.display =\n",
              "        google.colab.kernel.accessAllowed ? 'block' : 'none';\n",
              "    })();\n",
              "  </script>\n",
              "</div>\n",
              "    </div>\n",
              "  </div>\n"
            ]
          },
          "metadata": {},
          "execution_count": 70
        }
      ]
    },
    {
      "cell_type": "code",
      "source": [],
      "metadata": {
        "colab": {
          "base_uri": "https://localhost:8080/"
        },
        "id": "Qq_6UT_jTaCg",
        "outputId": "4a22f6fa-6f69-49a7-e101-a563bd99c8af"
      },
      "execution_count": null,
      "outputs": [
        {
          "output_type": "error",
          "ename": "AttributeError",
          "evalue": "ignored",
          "traceback": [
            "\u001b[0;31m---------------------------------------------------------------------------\u001b[0m",
            "\u001b[0;31mAttributeError\u001b[0m                            Traceback (most recent call last)",
            "\u001b[0;32m<ipython-input-67-d92cdabac013>\u001b[0m in \u001b[0;36m<cell line: 1>\u001b[0;34m()\u001b[0m\n\u001b[0;32m----> 1\u001b[0;31m \u001b[0mseparated_dfs\u001b[0m\u001b[0;34m.\u001b[0m\u001b[0minfo\u001b[0m\u001b[0;34m(\u001b[0m\u001b[0;34m)\u001b[0m\u001b[0;34m\u001b[0m\u001b[0;34m\u001b[0m\u001b[0m\n\u001b[0m",
            "\u001b[0;31mAttributeError\u001b[0m: 'list' object has no attribute 'info'"
          ]
        }
      ]
    },
    {
      "cell_type": "markdown",
      "source": [
        "# 따로따로 볼때...걍 참고.."
      ],
      "metadata": {
        "id": "yocCIUbirpOv"
      }
    },
    {
      "cell_type": "code",
      "source": [
        "import pandas as pd\n",
        "from prophet import Prophet\n",
        "import numpy as np\n",
        "import matplotlib.pyplot as plt\n",
        "\n",
        "# 데이터프레임 생성\n",
        "data = pd.DataFrame({\n",
        "    'ds': separated_dfs_2[0]['기간'],\n",
        "    'y': separated_dfs_2[0]['분기당_매출_금액'],\n",
        "    'service_code': separated_dfs_2[0]['서비스_업종_코드']\n",
        "})\n",
        "\n",
        "# 서비스 업종 코드(unique values) 리스트 추출\n",
        "service_codes = data['service_code'].unique()\n",
        "\n",
        "# 각 서비스 업종 코드에 대한 모델 생성 및 학습\n",
        "models = {}  # 각 서비스 업종 코드에 대한 모델을 저장하기 위한 딕셔너리\n",
        "\n",
        "for service_code in service_codes:\n",
        "    # 해당 서비스 업종 코드에 해당하는 데이터 추출\n",
        "    service_data = data[data['service_code'] == service_code]\n",
        "\n",
        "    # Prophet 모델 초기화\n",
        "    model = Prophet(interval_width=0.95)  # interval_width 설정\n",
        "\n",
        "    # 모델 학습\n",
        "    model.fit(service_data)\n",
        "\n",
        "    # 모델 저장\n",
        "    models[service_code] = model\n",
        "\n",
        "# 예측을 위한 미래 데이터 생성 (예: 5개월 예측)\n",
        "future_data = pd.DataFrame({'ds': pd.date_range(start='2023-09-01', periods=5, freq='M')})\n",
        "\n",
        "# 각 서비스 업종 코드별로 예측 수행\n",
        "predicted_values = pd.DataFrame(columns=['ds', 'yhat', 'yhat_lower', 'yhat_upper', 'service_code'])\n",
        "\n",
        "for service_code, model in models.items():\n",
        "    # 예측\n",
        "    forecast = model.predict(future_data)\n",
        "\n",
        "    # 예측 결과에 서비스 업종 코드 추가\n",
        "    forecast['service_code'] = service_code\n",
        "\n",
        "    # 결과를 predicted_values에 추가\n",
        "    predicted_values = pd.concat([predicted_values, forecast[['ds', 'yhat', 'yhat_lower', 'yhat_upper', 'service_code']]])\n",
        "\n",
        "# 예측 결과를 꺾은선 그래프로 시각화\n",
        "for service_code in service_codes:\n",
        "    subset = predicted_values[predicted_values['service_code'] == service_code]\n",
        "    fig = models[service_code].plot(subset)\n",
        "    plt.title(f'Service Code: {service_code}')\n",
        "    plt.show()\n"
      ],
      "metadata": {
        "id": "AHuo-w53EVy_"
      },
      "execution_count": null,
      "outputs": []
    },
    {
      "cell_type": "markdown",
      "source": [
        "**# 2)**"
      ],
      "metadata": {
        "id": "0UdjwLZcIcmo"
      }
    },
    {
      "cell_type": "code",
      "source": [
        "separated_dfs_2"
      ],
      "metadata": {
        "id": "fGxYnH6hJ6q2"
      },
      "execution_count": null,
      "outputs": []
    },
    {
      "cell_type": "code",
      "source": [
        "import pandas as pd\n",
        "from prophet import Prophet\n",
        "import numpy as np\n",
        "import matplotlib.pyplot as plt\n",
        "\n",
        "def make_def_3(dong_code, up_jobcode):\n",
        "  woorich = eval(f'{\"df_\"+str(dong_code)+\"_\"+str(up_jobcode)}')\n",
        "  # 데이터프레임 생성\n",
        "  data = pd.DataFrame({\n",
        "      'ds':  woorich['기간'],\n",
        "      'y':  woorich['분기당_매출_금액'],\n",
        "      'service_code':  woorich['서비스_업종_코드']\n",
        "  })\n",
        "\n",
        "  # 서비스 업종 코드(unique values) 리스트 추출\n",
        "  service_codes = data['service_code'].unique()\n",
        "\n",
        "  # Prophet 모델 저장을 위한 딕셔너리\n",
        "  models = {}\n",
        "\n",
        "  # 그래프 초기화\n",
        "  plt.figure(figsize=(12, 8))\n",
        "\n",
        "  # 예측 결과 저장을 위한 데이터프레임 초기화\n",
        "  predicted_values = pd.DataFrame(columns=['ds', 'yhat', 'service_code'])\n",
        "\n",
        "  for idx, service_code in enumerate(service_codes):\n",
        "      # 해당 서비스 업종 코드에 해당하는 데이터 추출\n",
        "      service_data = data[data['service_code'] == service_code]\n",
        "\n",
        "      # Prophet 모델 초기화\n",
        "      model = Prophet(interval_width=0.95)  # interval_width 설정\n",
        "\n",
        "      # 모델 학습\n",
        "      model.fit(service_data)\n",
        "\n",
        "      # 모델 저장\n",
        "      models[service_code] = model\n",
        "\n",
        "      # 예측\n",
        "      future_data = pd.DataFrame({'ds': pd.date_range(start='2022-10-01', periods=5, freq='M')})\n",
        "      forecast = model.predict(future_data)\n",
        "\n",
        "      # 예측 결과 데이터프레임에 추가\n",
        "      predicted_values = pd.concat([predicted_values, forecast[['ds', 'yhat']].tail(1).assign(service_code=service_code)])\n",
        "\n",
        "  # 예측 결과를 매출 값(yhat) 기준으로 내림차순 정렬\n",
        "  predicted_values = predicted_values.sort_values(by='yhat', ascending=False)\n",
        "\n",
        "  # 상위 5개 값을 추출\n",
        "  top_5_predictions = predicted_values.head(5)\n",
        "\n",
        "  # 상위 5개 예측값 출력\n",
        "  print(top_5_predictions)\n"
      ],
      "metadata": {
        "id": "As-nYVBkOVIJ"
      },
      "execution_count": null,
      "outputs": []
    },
    {
      "cell_type": "code",
      "source": [
        "make_def_3(11740700,2)"
      ],
      "metadata": {
        "id": "ongoaPzvvUeU"
      },
      "execution_count": null,
      "outputs": []
    },
    {
      "cell_type": "code",
      "source": [
        "make_def_3(11740700,2)"
      ],
      "metadata": {
        "id": "WYwwHkzwVzyT"
      },
      "execution_count": null,
      "outputs": []
    },
    {
      "cell_type": "code",
      "source": [
        "import warnings\n",
        "warnings.filterwarnings('ignore')"
      ],
      "metadata": {
        "id": "BRK_BmX5Sa-t"
      },
      "execution_count": null,
      "outputs": []
    },
    {
      "cell_type": "markdown",
      "source": [
        "자동으로 input들어가는 함수만들기\n",
        "\n",
        "```\n",
        "dong_code=11222\n",
        "up_jobcode=123\n",
        "\n",
        "def test(dong_code, up_jobcode):\n",
        "  return(f'{\"df_\"+str(dong_code)+\"_\"+str(up_jobcode)}')\n",
        "```\n",
        "\n"
      ],
      "metadata": {
        "id": "coOY95EIuG6G"
      }
    },
    {
      "cell_type": "markdown",
      "source": [
        "# 2) **고정**"
      ],
      "metadata": {
        "id": "YMur8Kkczno6"
      }
    },
    {
      "cell_type": "code",
      "source": [
        "import pandas as pd\n",
        "from prophet import Prophet\n",
        "import numpy as np\n",
        "import matplotlib.pyplot as plt\n",
        "\n",
        "def make_def_3(dong_code, up_jobcode):\n",
        "  woorich = eval(f'{\"df_\"+str(dong_code)+\"_\"+str(up_jobcode)}')\n",
        "\n",
        "  # 데이터프레임 생성\n",
        "  data = pd.DataFrame({\n",
        "      'ds':  woorich['기간'],\n",
        "      'y':  woorich['분기당_매출_금액'],\n",
        "      'service_code':  woorich['서비스_업종_코드']\n",
        "  })\n",
        "\n",
        "  # 서비스 업종 코드(unique values) 리스트 추출\n",
        "  service_codes = data['service_code'].unique()\n",
        "\n",
        "  # Prophet 모델 저장을 위한 딕셔너리\n",
        "  models = {}\n",
        "\n",
        "  # 그래프 초기화\n",
        "  plt.figure(figsize=(20, 8))\n",
        "\n",
        "  # 예측 결과 저장을 위한 데이터프레임 초기화\n",
        "  predicted_values = pd.DataFrame(columns=['ds', 'yhat', 'service_code'])\n",
        "\n",
        "  for idx, service_code in enumerate(service_codes):\n",
        "      # 해당 서비스 업종 코드에 해당하는 데이터 추출\n",
        "      service_data = data[data['service_code'] == service_code]\n",
        "\n",
        "      # Prophet 모델 초기화\n",
        "      model = Prophet(interval_width=0.95)  # interval_width 설정\n",
        "\n",
        "      # 모델 학습\n",
        "      model.fit(service_data)\n",
        "\n",
        "      # 모델 저장\n",
        "      models[service_code] = model\n",
        "\n",
        "      # 예측\n",
        "      future_data = pd.DataFrame({'ds': pd.date_range(start='2022-10-01', periods=5, freq='M')})\n",
        "      forecast = model.predict(future_data)\n",
        "\n",
        "      # 예측 결과 데이터프레임에 추가\n",
        "      predicted_values = pd.concat([predicted_values, forecast[['ds', 'yhat']].tail(1).assign(service_code=service_code)])\n",
        "\n",
        "  # 예측 결과를 매출 값(yhat) 기준으로 내림차순 정렬\n",
        "  predicted_values = predicted_values.sort_values(by='yhat', ascending=False)\n",
        "\n",
        "  # 상위 5개 값을 추출\n",
        "  top_5_predictions = predicted_values.head(5)\n",
        "\n",
        "  # 상위 5개 예측값 출력\n",
        "  print('------예측 매출이 높은 상위 5개 서비스 업종------')\n",
        "  print(top_5_predictions)\n",
        "  print('-------------------------------------------------')\n",
        "\n",
        "\n",
        "  # 상위 5개 예측값을 그래프로 시각화\n",
        "  for idx, row in top_5_predictions.iterrows():\n",
        "      service_code = row['service_code']\n",
        "      model = models[service_code]\n",
        "\n",
        "      # 예측 그래프 그리기\n",
        "      forecast = model.predict(future_data)\n",
        "      plt.plot(forecast['ds'], forecast['yhat'], label=f'Service Code: {service_code}',linewidth=5)\n",
        "\n",
        "  # 그래프 레이블 및 범례 설정\n",
        "  plt.xlabel('날짜')\n",
        "  plt.ylabel('예상 매출')\n",
        "  plt.title('예측 매출이 높은 상위 5개 서비스 업종')\n",
        "  plt.legend(loc='upper left', fontsize=10)\n",
        "\n",
        "  # 그래프 표시\n",
        "  plt.show()"
      ],
      "metadata": {
        "id": "pnqMrSFvO4xh"
      },
      "execution_count": null,
      "outputs": []
    },
    {
      "cell_type": "code",
      "source": [
        "make_def_3(11740700, 3)"
      ],
      "metadata": {
        "id": "6JLMaXHk3GrY"
      },
      "execution_count": null,
      "outputs": []
    },
    {
      "cell_type": "markdown",
      "source": [
        "# 실험 (확정) 그래프랑 코드->이름으로 바꿔서 리스트로 나옴"
      ],
      "metadata": {
        "id": "7eWxboXkzp-R"
      }
    },
    {
      "cell_type": "code",
      "source": [
        "import pandas as pd\n",
        "from prophet import Prophet\n",
        "import numpy as np\n",
        "import matplotlib.pyplot as plt\n",
        "\n",
        "df_service =pd.read_csv('/content/drive/MyDrive/[최종프로젝트]_우리FISA/0911/업종_분류.csv',encoding='euc-kr')\n",
        "# df_service에서 '서비스_업종_코드_명' 컬럼과 '서비스_업종_코드' 컬럼 설정\n",
        "df_service = df_service[['서비스_업종_코드_명', '서비스_업종_코드']]\n",
        "df_service['서비스_업종_코드'] = df_service['서비스_업종_코드'].str.replace('CS', '')\n",
        "df_service['서비스_업종_코드'] = df_service['서비스_업종_코드'].astype(int)\n",
        "\n",
        "def make_def_4(dong_code, up_jobcode):\n",
        "  woorich = eval(f'{\"df_\"+str(dong_code)+\"_\"+str(up_jobcode)}')\n",
        "\n",
        "  # 데이터프레임 생성\n",
        "  data = pd.DataFrame({\n",
        "      'ds':  woorich['기간'],\n",
        "      'y':  woorich['분기당_매출_금액'],\n",
        "      'service_code':  woorich['서비스_업종_코드']\n",
        "  })\n",
        "\n",
        "  # 서비스 업종 코드(unique values) 리스트 추출\n",
        "  service_codes = data['service_code'].unique()\n",
        "\n",
        "  # Prophet 모델 저장을 위한 딕셔너리\n",
        "  models = {}\n",
        "\n",
        "  # 그래프 초기화\n",
        "  plt.figure(figsize=(20, 8))\n",
        "\n",
        "  # 예측 결과 저장을 위한 데이터프레임 초기화\n",
        "  predicted_values = pd.DataFrame(columns=['ds', 'yhat', 'service_code'])\n",
        "\n",
        "\n",
        "  # top_5_service_names 리스트 초기화\n",
        "  top_5_service_names = []\n",
        "\n",
        "  for idx, service_code in enumerate(service_codes):\n",
        "      # 해당 서비스 업종 코드에 해당하는 데이터 추출\n",
        "      service_data = data[data['service_code'] == service_code]\n",
        "\n",
        "      # Prophet 모델 초기화\n",
        "      model = Prophet(interval_width=0.95)  # interval_width 설정\n",
        "\n",
        "      # 모델 학습\n",
        "      model.fit(service_data)\n",
        "\n",
        "      # 모델 저장\n",
        "      models[service_code] = model\n",
        "\n",
        "      # 예측\n",
        "      future_data = pd.DataFrame({'ds': pd.date_range(start='2022-10-01', periods=5, freq='M')})\n",
        "      forecast = model.predict(future_data)\n",
        "\n",
        "      # 예측 결과 데이터프레임에 추가\n",
        "      predicted_values = pd.concat([predicted_values, forecast[['ds', 'yhat']].tail(1).assign(service_code=service_code)])\n",
        "\n",
        "  # 예측 결과를 매출 값(yhat) 기준으로 내림차순 정렬\n",
        "  predicted_values = predicted_values.sort_values(by='yhat', ascending=False)\n",
        "\n",
        "  # 상위 5개 값을 추출\n",
        "  top_5_predictions = predicted_values.head(5)\n",
        "\n",
        "  # 상위 5개 예측값 출력\n",
        "  print('------예측 매출이 높은 상위 5개 서비스 업종------')\n",
        "  print(top_5_predictions)\n",
        "  print('-------------------------------------------------')\n",
        "\n",
        "  # 상위 5개 예측값을 그래프로 시각화\n",
        "  for idx, row in top_5_predictions.iterrows():\n",
        "      service_code = row['service_code']\n",
        "      model = models[service_code]\n",
        "\n",
        "      # 예측 그래프 그리기\n",
        "      forecast = model.predict(future_data)\n",
        "      plt.plot(forecast['ds'], forecast['yhat'], label=f'Service Code: {service_code}',linewidth=5)\n",
        "\n",
        "      # df_service에서 '서비스_업종_코드'와 일치하는 '서비스_업종_코드_명' 가져오기\n",
        "      df_service_filtered = df_service[df_service['서비스_업종_코드'] == service_code]\n",
        "      if not df_service_filtered.empty:\n",
        "        service_name = df_service_filtered.iloc[0]['서비스_업종_코드_명']\n",
        "        print(f'서비스업종코드: {service_code}, 서비스업종명: {service_name}')\n",
        "\n",
        "        # top_5_service_names 리스트에 추가\n",
        "        top_5_service_names.append(service_name)\n",
        "\n",
        "\n",
        "  # 그래프 레이블 및 범례 설정\n",
        "  plt.xlabel('날짜')\n",
        "  plt.ylabel('예상 매출')\n",
        "  plt.title('예측 매출이 높은 상위 5개 서비스 업종')\n",
        "  plt.legend(loc='upper left', fontsize=10)\n",
        "\n",
        "  # 그래프 표시\n",
        "  plt.show()\n",
        "\n",
        "  # top_5_service_names 출력\n",
        "  print('Top 5 서비스 업종:', top_5_service_names)"
      ],
      "metadata": {
        "id": "4kHZ85yVzlgn"
      },
      "execution_count": null,
      "outputs": []
    },
    {
      "cell_type": "code",
      "source": [
        "make_def_4(11740700, 3)"
      ],
      "metadata": {
        "colab": {
          "base_uri": "https://localhost:8080/",
          "height": 1000
        },
        "id": "QytNIGazYubS",
        "outputId": "c87e2e63-b0cc-4782-8bfc-585f1dfb802c"
      },
      "execution_count": null,
      "outputs": [
        {
          "output_type": "stream",
          "name": "stderr",
          "text": [
            "INFO:prophet:Disabling weekly seasonality. Run prophet with weekly_seasonality=True to override this.\n",
            "INFO:prophet:Disabling daily seasonality. Run prophet with daily_seasonality=True to override this.\n",
            "INFO:prophet:n_changepoints greater than number of observations. Using 17.\n",
            "DEBUG:cmdstanpy:input tempfile: /tmp/tmpweerf0e2/yg5m0uu2.json\n",
            "DEBUG:cmdstanpy:input tempfile: /tmp/tmpweerf0e2/e99hd_05.json\n",
            "DEBUG:cmdstanpy:idx 0\n",
            "DEBUG:cmdstanpy:running CmdStan, num_threads: None\n",
            "DEBUG:cmdstanpy:CmdStan args: ['/usr/local/lib/python3.10/dist-packages/prophet/stan_model/prophet_model.bin', 'random', 'seed=38207', 'data', 'file=/tmp/tmpweerf0e2/yg5m0uu2.json', 'init=/tmp/tmpweerf0e2/e99hd_05.json', 'output', 'file=/tmp/tmpweerf0e2/prophet_modelm13bm4ch/prophet_model-20230911111448.csv', 'method=optimize', 'algorithm=newton', 'iter=10000']\n",
            "11:14:48 - cmdstanpy - INFO - Chain [1] start processing\n",
            "INFO:cmdstanpy:Chain [1] start processing\n",
            "11:14:48 - cmdstanpy - INFO - Chain [1] done processing\n",
            "INFO:cmdstanpy:Chain [1] done processing\n",
            "INFO:prophet:Disabling weekly seasonality. Run prophet with weekly_seasonality=True to override this.\n",
            "INFO:prophet:Disabling daily seasonality. Run prophet with daily_seasonality=True to override this.\n",
            "INFO:prophet:n_changepoints greater than number of observations. Using 17.\n",
            "DEBUG:cmdstanpy:input tempfile: /tmp/tmpweerf0e2/_z91xejq.json\n",
            "DEBUG:cmdstanpy:input tempfile: /tmp/tmpweerf0e2/asj61lp3.json\n",
            "DEBUG:cmdstanpy:idx 0\n",
            "DEBUG:cmdstanpy:running CmdStan, num_threads: None\n",
            "DEBUG:cmdstanpy:CmdStan args: ['/usr/local/lib/python3.10/dist-packages/prophet/stan_model/prophet_model.bin', 'random', 'seed=95858', 'data', 'file=/tmp/tmpweerf0e2/_z91xejq.json', 'init=/tmp/tmpweerf0e2/asj61lp3.json', 'output', 'file=/tmp/tmpweerf0e2/prophet_model0mpq8uv9/prophet_model-20230911111448.csv', 'method=optimize', 'algorithm=newton', 'iter=10000']\n",
            "11:14:48 - cmdstanpy - INFO - Chain [1] start processing\n",
            "INFO:cmdstanpy:Chain [1] start processing\n",
            "11:14:48 - cmdstanpy - INFO - Chain [1] done processing\n",
            "INFO:cmdstanpy:Chain [1] done processing\n",
            "INFO:prophet:Disabling yearly seasonality. Run prophet with yearly_seasonality=True to override this.\n",
            "INFO:prophet:Disabling weekly seasonality. Run prophet with weekly_seasonality=True to override this.\n",
            "INFO:prophet:Disabling daily seasonality. Run prophet with daily_seasonality=True to override this.\n",
            "INFO:prophet:n_changepoints greater than number of observations. Using 4.\n",
            "DEBUG:cmdstanpy:input tempfile: /tmp/tmpweerf0e2/ip0clgyw.json\n",
            "DEBUG:cmdstanpy:input tempfile: /tmp/tmpweerf0e2/05a700vj.json\n",
            "DEBUG:cmdstanpy:idx 0\n",
            "DEBUG:cmdstanpy:running CmdStan, num_threads: None\n",
            "DEBUG:cmdstanpy:CmdStan args: ['/usr/local/lib/python3.10/dist-packages/prophet/stan_model/prophet_model.bin', 'random', 'seed=82108', 'data', 'file=/tmp/tmpweerf0e2/ip0clgyw.json', 'init=/tmp/tmpweerf0e2/05a700vj.json', 'output', 'file=/tmp/tmpweerf0e2/prophet_modelg0wt3pz1/prophet_model-20230911111448.csv', 'method=optimize', 'algorithm=newton', 'iter=10000']\n",
            "11:14:48 - cmdstanpy - INFO - Chain [1] start processing\n",
            "INFO:cmdstanpy:Chain [1] start processing\n",
            "11:14:48 - cmdstanpy - INFO - Chain [1] done processing\n",
            "INFO:cmdstanpy:Chain [1] done processing\n",
            "INFO:prophet:Disabling weekly seasonality. Run prophet with weekly_seasonality=True to override this.\n",
            "INFO:prophet:Disabling daily seasonality. Run prophet with daily_seasonality=True to override this.\n",
            "INFO:prophet:n_changepoints greater than number of observations. Using 17.\n",
            "DEBUG:cmdstanpy:input tempfile: /tmp/tmpweerf0e2/a1vdtrc9.json\n",
            "DEBUG:cmdstanpy:input tempfile: /tmp/tmpweerf0e2/h4i6r05j.json\n",
            "DEBUG:cmdstanpy:idx 0\n",
            "DEBUG:cmdstanpy:running CmdStan, num_threads: None\n",
            "DEBUG:cmdstanpy:CmdStan args: ['/usr/local/lib/python3.10/dist-packages/prophet/stan_model/prophet_model.bin', 'random', 'seed=7543', 'data', 'file=/tmp/tmpweerf0e2/a1vdtrc9.json', 'init=/tmp/tmpweerf0e2/h4i6r05j.json', 'output', 'file=/tmp/tmpweerf0e2/prophet_modelr95mvu9g/prophet_model-20230911111448.csv', 'method=optimize', 'algorithm=newton', 'iter=10000']\n",
            "11:14:48 - cmdstanpy - INFO - Chain [1] start processing\n",
            "INFO:cmdstanpy:Chain [1] start processing\n",
            "11:14:48 - cmdstanpy - INFO - Chain [1] done processing\n",
            "INFO:cmdstanpy:Chain [1] done processing\n",
            "INFO:prophet:Disabling weekly seasonality. Run prophet with weekly_seasonality=True to override this.\n",
            "INFO:prophet:Disabling daily seasonality. Run prophet with daily_seasonality=True to override this.\n",
            "INFO:prophet:n_changepoints greater than number of observations. Using 14.\n",
            "DEBUG:cmdstanpy:input tempfile: /tmp/tmpweerf0e2/4qco0jh1.json\n",
            "DEBUG:cmdstanpy:input tempfile: /tmp/tmpweerf0e2/njfp_ned.json\n",
            "DEBUG:cmdstanpy:idx 0\n",
            "DEBUG:cmdstanpy:running CmdStan, num_threads: None\n",
            "DEBUG:cmdstanpy:CmdStan args: ['/usr/local/lib/python3.10/dist-packages/prophet/stan_model/prophet_model.bin', 'random', 'seed=65306', 'data', 'file=/tmp/tmpweerf0e2/4qco0jh1.json', 'init=/tmp/tmpweerf0e2/njfp_ned.json', 'output', 'file=/tmp/tmpweerf0e2/prophet_modelsis495v5/prophet_model-20230911111449.csv', 'method=optimize', 'algorithm=newton', 'iter=10000']\n",
            "11:14:49 - cmdstanpy - INFO - Chain [1] start processing\n",
            "INFO:cmdstanpy:Chain [1] start processing\n",
            "11:14:49 - cmdstanpy - INFO - Chain [1] done processing\n",
            "INFO:cmdstanpy:Chain [1] done processing\n",
            "INFO:prophet:Disabling weekly seasonality. Run prophet with weekly_seasonality=True to override this.\n",
            "INFO:prophet:Disabling daily seasonality. Run prophet with daily_seasonality=True to override this.\n",
            "INFO:prophet:n_changepoints greater than number of observations. Using 17.\n",
            "DEBUG:cmdstanpy:input tempfile: /tmp/tmpweerf0e2/dm_18wjq.json\n",
            "DEBUG:cmdstanpy:input tempfile: /tmp/tmpweerf0e2/bs4dumzz.json\n",
            "DEBUG:cmdstanpy:idx 0\n",
            "DEBUG:cmdstanpy:running CmdStan, num_threads: None\n",
            "DEBUG:cmdstanpy:CmdStan args: ['/usr/local/lib/python3.10/dist-packages/prophet/stan_model/prophet_model.bin', 'random', 'seed=8132', 'data', 'file=/tmp/tmpweerf0e2/dm_18wjq.json', 'init=/tmp/tmpweerf0e2/bs4dumzz.json', 'output', 'file=/tmp/tmpweerf0e2/prophet_model12imxq56/prophet_model-20230911111449.csv', 'method=optimize', 'algorithm=newton', 'iter=10000']\n",
            "11:14:49 - cmdstanpy - INFO - Chain [1] start processing\n",
            "INFO:cmdstanpy:Chain [1] start processing\n",
            "11:14:49 - cmdstanpy - INFO - Chain [1] done processing\n",
            "INFO:cmdstanpy:Chain [1] done processing\n",
            "INFO:prophet:Disabling weekly seasonality. Run prophet with weekly_seasonality=True to override this.\n",
            "INFO:prophet:Disabling daily seasonality. Run prophet with daily_seasonality=True to override this.\n",
            "INFO:prophet:n_changepoints greater than number of observations. Using 17.\n",
            "DEBUG:cmdstanpy:input tempfile: /tmp/tmpweerf0e2/ixi3yvse.json\n",
            "DEBUG:cmdstanpy:input tempfile: /tmp/tmpweerf0e2/jm6l8rny.json\n",
            "DEBUG:cmdstanpy:idx 0\n",
            "DEBUG:cmdstanpy:running CmdStan, num_threads: None\n",
            "DEBUG:cmdstanpy:CmdStan args: ['/usr/local/lib/python3.10/dist-packages/prophet/stan_model/prophet_model.bin', 'random', 'seed=9204', 'data', 'file=/tmp/tmpweerf0e2/ixi3yvse.json', 'init=/tmp/tmpweerf0e2/jm6l8rny.json', 'output', 'file=/tmp/tmpweerf0e2/prophet_modeloe81n4yt/prophet_model-20230911111449.csv', 'method=optimize', 'algorithm=newton', 'iter=10000']\n",
            "11:14:49 - cmdstanpy - INFO - Chain [1] start processing\n",
            "INFO:cmdstanpy:Chain [1] start processing\n",
            "11:14:49 - cmdstanpy - INFO - Chain [1] done processing\n",
            "INFO:cmdstanpy:Chain [1] done processing\n",
            "INFO:prophet:Disabling weekly seasonality. Run prophet with weekly_seasonality=True to override this.\n",
            "INFO:prophet:Disabling daily seasonality. Run prophet with daily_seasonality=True to override this.\n",
            "INFO:prophet:n_changepoints greater than number of observations. Using 17.\n",
            "DEBUG:cmdstanpy:input tempfile: /tmp/tmpweerf0e2/uq5e9j24.json\n",
            "DEBUG:cmdstanpy:input tempfile: /tmp/tmpweerf0e2/ql116spz.json\n",
            "DEBUG:cmdstanpy:idx 0\n",
            "DEBUG:cmdstanpy:running CmdStan, num_threads: None\n",
            "DEBUG:cmdstanpy:CmdStan args: ['/usr/local/lib/python3.10/dist-packages/prophet/stan_model/prophet_model.bin', 'random', 'seed=83789', 'data', 'file=/tmp/tmpweerf0e2/uq5e9j24.json', 'init=/tmp/tmpweerf0e2/ql116spz.json', 'output', 'file=/tmp/tmpweerf0e2/prophet_model6qq9hg57/prophet_model-20230911111449.csv', 'method=optimize', 'algorithm=newton', 'iter=10000']\n",
            "11:14:49 - cmdstanpy - INFO - Chain [1] start processing\n",
            "INFO:cmdstanpy:Chain [1] start processing\n",
            "11:14:49 - cmdstanpy - INFO - Chain [1] done processing\n",
            "INFO:cmdstanpy:Chain [1] done processing\n",
            "INFO:prophet:Disabling weekly seasonality. Run prophet with weekly_seasonality=True to override this.\n",
            "INFO:prophet:Disabling daily seasonality. Run prophet with daily_seasonality=True to override this.\n",
            "INFO:prophet:n_changepoints greater than number of observations. Using 17.\n",
            "DEBUG:cmdstanpy:input tempfile: /tmp/tmpweerf0e2/5apcoxjj.json\n",
            "DEBUG:cmdstanpy:input tempfile: /tmp/tmpweerf0e2/q8rbh1w3.json\n",
            "DEBUG:cmdstanpy:idx 0\n",
            "DEBUG:cmdstanpy:running CmdStan, num_threads: None\n",
            "DEBUG:cmdstanpy:CmdStan args: ['/usr/local/lib/python3.10/dist-packages/prophet/stan_model/prophet_model.bin', 'random', 'seed=32834', 'data', 'file=/tmp/tmpweerf0e2/5apcoxjj.json', 'init=/tmp/tmpweerf0e2/q8rbh1w3.json', 'output', 'file=/tmp/tmpweerf0e2/prophet_model8snwfq4j/prophet_model-20230911111449.csv', 'method=optimize', 'algorithm=newton', 'iter=10000']\n",
            "11:14:49 - cmdstanpy - INFO - Chain [1] start processing\n",
            "INFO:cmdstanpy:Chain [1] start processing\n",
            "11:14:49 - cmdstanpy - INFO - Chain [1] done processing\n",
            "INFO:cmdstanpy:Chain [1] done processing\n",
            "INFO:prophet:Disabling weekly seasonality. Run prophet with weekly_seasonality=True to override this.\n",
            "INFO:prophet:Disabling daily seasonality. Run prophet with daily_seasonality=True to override this.\n",
            "INFO:prophet:n_changepoints greater than number of observations. Using 17.\n",
            "DEBUG:cmdstanpy:input tempfile: /tmp/tmpweerf0e2/pydomrpj.json\n",
            "DEBUG:cmdstanpy:input tempfile: /tmp/tmpweerf0e2/p6lb6ugo.json\n",
            "DEBUG:cmdstanpy:idx 0\n",
            "DEBUG:cmdstanpy:running CmdStan, num_threads: None\n",
            "DEBUG:cmdstanpy:CmdStan args: ['/usr/local/lib/python3.10/dist-packages/prophet/stan_model/prophet_model.bin', 'random', 'seed=51477', 'data', 'file=/tmp/tmpweerf0e2/pydomrpj.json', 'init=/tmp/tmpweerf0e2/p6lb6ugo.json', 'output', 'file=/tmp/tmpweerf0e2/prophet_model7ksnjv1h/prophet_model-20230911111450.csv', 'method=optimize', 'algorithm=newton', 'iter=10000']\n",
            "11:14:50 - cmdstanpy - INFO - Chain [1] start processing\n",
            "INFO:cmdstanpy:Chain [1] start processing\n",
            "11:14:50 - cmdstanpy - INFO - Chain [1] done processing\n",
            "INFO:cmdstanpy:Chain [1] done processing\n",
            "INFO:prophet:Disabling weekly seasonality. Run prophet with weekly_seasonality=True to override this.\n",
            "INFO:prophet:Disabling daily seasonality. Run prophet with daily_seasonality=True to override this.\n",
            "INFO:prophet:n_changepoints greater than number of observations. Using 17.\n",
            "DEBUG:cmdstanpy:input tempfile: /tmp/tmpweerf0e2/reeq6wo6.json\n",
            "DEBUG:cmdstanpy:input tempfile: /tmp/tmpweerf0e2/65v6k7ya.json\n",
            "DEBUG:cmdstanpy:idx 0\n",
            "DEBUG:cmdstanpy:running CmdStan, num_threads: None\n",
            "DEBUG:cmdstanpy:CmdStan args: ['/usr/local/lib/python3.10/dist-packages/prophet/stan_model/prophet_model.bin', 'random', 'seed=63259', 'data', 'file=/tmp/tmpweerf0e2/reeq6wo6.json', 'init=/tmp/tmpweerf0e2/65v6k7ya.json', 'output', 'file=/tmp/tmpweerf0e2/prophet_model7g73p0pj/prophet_model-20230911111450.csv', 'method=optimize', 'algorithm=newton', 'iter=10000']\n",
            "11:14:50 - cmdstanpy - INFO - Chain [1] start processing\n",
            "INFO:cmdstanpy:Chain [1] start processing\n",
            "11:14:50 - cmdstanpy - INFO - Chain [1] done processing\n",
            "INFO:cmdstanpy:Chain [1] done processing\n",
            "INFO:prophet:Disabling weekly seasonality. Run prophet with weekly_seasonality=True to override this.\n",
            "INFO:prophet:Disabling daily seasonality. Run prophet with daily_seasonality=True to override this.\n",
            "INFO:prophet:n_changepoints greater than number of observations. Using 17.\n",
            "DEBUG:cmdstanpy:input tempfile: /tmp/tmpweerf0e2/ajpelot8.json\n",
            "DEBUG:cmdstanpy:input tempfile: /tmp/tmpweerf0e2/4yowssej.json\n",
            "DEBUG:cmdstanpy:idx 0\n",
            "DEBUG:cmdstanpy:running CmdStan, num_threads: None\n",
            "DEBUG:cmdstanpy:CmdStan args: ['/usr/local/lib/python3.10/dist-packages/prophet/stan_model/prophet_model.bin', 'random', 'seed=2235', 'data', 'file=/tmp/tmpweerf0e2/ajpelot8.json', 'init=/tmp/tmpweerf0e2/4yowssej.json', 'output', 'file=/tmp/tmpweerf0e2/prophet_modelvru8cw7g/prophet_model-20230911111450.csv', 'method=optimize', 'algorithm=newton', 'iter=10000']\n",
            "11:14:50 - cmdstanpy - INFO - Chain [1] start processing\n",
            "INFO:cmdstanpy:Chain [1] start processing\n",
            "11:14:50 - cmdstanpy - INFO - Chain [1] done processing\n",
            "INFO:cmdstanpy:Chain [1] done processing\n",
            "INFO:prophet:Disabling weekly seasonality. Run prophet with weekly_seasonality=True to override this.\n",
            "INFO:prophet:Disabling daily seasonality. Run prophet with daily_seasonality=True to override this.\n",
            "INFO:prophet:n_changepoints greater than number of observations. Using 17.\n",
            "DEBUG:cmdstanpy:input tempfile: /tmp/tmpweerf0e2/jvjg48nl.json\n",
            "DEBUG:cmdstanpy:input tempfile: /tmp/tmpweerf0e2/cz6zk_yz.json\n",
            "DEBUG:cmdstanpy:idx 0\n",
            "DEBUG:cmdstanpy:running CmdStan, num_threads: None\n",
            "DEBUG:cmdstanpy:CmdStan args: ['/usr/local/lib/python3.10/dist-packages/prophet/stan_model/prophet_model.bin', 'random', 'seed=15121', 'data', 'file=/tmp/tmpweerf0e2/jvjg48nl.json', 'init=/tmp/tmpweerf0e2/cz6zk_yz.json', 'output', 'file=/tmp/tmpweerf0e2/prophet_modelcrtl4lcc/prophet_model-20230911111450.csv', 'method=optimize', 'algorithm=newton', 'iter=10000']\n",
            "11:14:50 - cmdstanpy - INFO - Chain [1] start processing\n",
            "INFO:cmdstanpy:Chain [1] start processing\n",
            "11:14:50 - cmdstanpy - INFO - Chain [1] done processing\n",
            "INFO:cmdstanpy:Chain [1] done processing\n",
            "INFO:prophet:Disabling weekly seasonality. Run prophet with weekly_seasonality=True to override this.\n",
            "INFO:prophet:Disabling daily seasonality. Run prophet with daily_seasonality=True to override this.\n",
            "INFO:prophet:n_changepoints greater than number of observations. Using 17.\n",
            "DEBUG:cmdstanpy:input tempfile: /tmp/tmpweerf0e2/rdf12qcw.json\n",
            "DEBUG:cmdstanpy:input tempfile: /tmp/tmpweerf0e2/5xo7qt0q.json\n",
            "DEBUG:cmdstanpy:idx 0\n",
            "DEBUG:cmdstanpy:running CmdStan, num_threads: None\n",
            "DEBUG:cmdstanpy:CmdStan args: ['/usr/local/lib/python3.10/dist-packages/prophet/stan_model/prophet_model.bin', 'random', 'seed=79279', 'data', 'file=/tmp/tmpweerf0e2/rdf12qcw.json', 'init=/tmp/tmpweerf0e2/5xo7qt0q.json', 'output', 'file=/tmp/tmpweerf0e2/prophet_model1k426n4x/prophet_model-20230911111450.csv', 'method=optimize', 'algorithm=newton', 'iter=10000']\n",
            "11:14:50 - cmdstanpy - INFO - Chain [1] start processing\n",
            "INFO:cmdstanpy:Chain [1] start processing\n",
            "11:14:50 - cmdstanpy - INFO - Chain [1] done processing\n",
            "INFO:cmdstanpy:Chain [1] done processing\n",
            "INFO:prophet:Disabling weekly seasonality. Run prophet with weekly_seasonality=True to override this.\n",
            "INFO:prophet:Disabling daily seasonality. Run prophet with daily_seasonality=True to override this.\n",
            "INFO:prophet:n_changepoints greater than number of observations. Using 17.\n",
            "DEBUG:cmdstanpy:input tempfile: /tmp/tmpweerf0e2/lbkj00z4.json\n",
            "DEBUG:cmdstanpy:input tempfile: /tmp/tmpweerf0e2/uqeaj45j.json\n",
            "DEBUG:cmdstanpy:idx 0\n",
            "DEBUG:cmdstanpy:running CmdStan, num_threads: None\n",
            "DEBUG:cmdstanpy:CmdStan args: ['/usr/local/lib/python3.10/dist-packages/prophet/stan_model/prophet_model.bin', 'random', 'seed=12420', 'data', 'file=/tmp/tmpweerf0e2/lbkj00z4.json', 'init=/tmp/tmpweerf0e2/uqeaj45j.json', 'output', 'file=/tmp/tmpweerf0e2/prophet_model9zudzcrx/prophet_model-20230911111451.csv', 'method=optimize', 'algorithm=newton', 'iter=10000']\n",
            "11:14:51 - cmdstanpy - INFO - Chain [1] start processing\n",
            "INFO:cmdstanpy:Chain [1] start processing\n",
            "11:14:51 - cmdstanpy - INFO - Chain [1] done processing\n",
            "INFO:cmdstanpy:Chain [1] done processing\n",
            "INFO:prophet:Disabling weekly seasonality. Run prophet with weekly_seasonality=True to override this.\n",
            "INFO:prophet:Disabling daily seasonality. Run prophet with daily_seasonality=True to override this.\n",
            "INFO:prophet:n_changepoints greater than number of observations. Using 17.\n",
            "DEBUG:cmdstanpy:input tempfile: /tmp/tmpweerf0e2/y700bp2k.json\n",
            "DEBUG:cmdstanpy:input tempfile: /tmp/tmpweerf0e2/57ac6w4b.json\n",
            "DEBUG:cmdstanpy:idx 0\n",
            "DEBUG:cmdstanpy:running CmdStan, num_threads: None\n",
            "DEBUG:cmdstanpy:CmdStan args: ['/usr/local/lib/python3.10/dist-packages/prophet/stan_model/prophet_model.bin', 'random', 'seed=19192', 'data', 'file=/tmp/tmpweerf0e2/y700bp2k.json', 'init=/tmp/tmpweerf0e2/57ac6w4b.json', 'output', 'file=/tmp/tmpweerf0e2/prophet_modelayz4dk5m/prophet_model-20230911111451.csv', 'method=optimize', 'algorithm=newton', 'iter=10000']\n",
            "11:14:51 - cmdstanpy - INFO - Chain [1] start processing\n",
            "INFO:cmdstanpy:Chain [1] start processing\n",
            "11:14:51 - cmdstanpy - INFO - Chain [1] done processing\n",
            "INFO:cmdstanpy:Chain [1] done processing\n",
            "INFO:prophet:Disabling weekly seasonality. Run prophet with weekly_seasonality=True to override this.\n",
            "INFO:prophet:Disabling daily seasonality. Run prophet with daily_seasonality=True to override this.\n",
            "INFO:prophet:n_changepoints greater than number of observations. Using 7.\n",
            "DEBUG:cmdstanpy:input tempfile: /tmp/tmpweerf0e2/h3jg3gf8.json\n",
            "DEBUG:cmdstanpy:input tempfile: /tmp/tmpweerf0e2/kvt36bwj.json\n",
            "DEBUG:cmdstanpy:idx 0\n",
            "DEBUG:cmdstanpy:running CmdStan, num_threads: None\n",
            "DEBUG:cmdstanpy:CmdStan args: ['/usr/local/lib/python3.10/dist-packages/prophet/stan_model/prophet_model.bin', 'random', 'seed=26975', 'data', 'file=/tmp/tmpweerf0e2/h3jg3gf8.json', 'init=/tmp/tmpweerf0e2/kvt36bwj.json', 'output', 'file=/tmp/tmpweerf0e2/prophet_modelhr0ej0ga/prophet_model-20230911111451.csv', 'method=optimize', 'algorithm=newton', 'iter=10000']\n",
            "11:14:51 - cmdstanpy - INFO - Chain [1] start processing\n",
            "INFO:cmdstanpy:Chain [1] start processing\n",
            "11:14:51 - cmdstanpy - INFO - Chain [1] done processing\n",
            "INFO:cmdstanpy:Chain [1] done processing\n",
            "INFO:prophet:Disabling weekly seasonality. Run prophet with weekly_seasonality=True to override this.\n",
            "INFO:prophet:Disabling daily seasonality. Run prophet with daily_seasonality=True to override this.\n",
            "INFO:prophet:n_changepoints greater than number of observations. Using 17.\n",
            "DEBUG:cmdstanpy:input tempfile: /tmp/tmpweerf0e2/t8wuvl4r.json\n",
            "DEBUG:cmdstanpy:input tempfile: /tmp/tmpweerf0e2/xnrsyewo.json\n",
            "DEBUG:cmdstanpy:idx 0\n",
            "DEBUG:cmdstanpy:running CmdStan, num_threads: None\n",
            "DEBUG:cmdstanpy:CmdStan args: ['/usr/local/lib/python3.10/dist-packages/prophet/stan_model/prophet_model.bin', 'random', 'seed=76287', 'data', 'file=/tmp/tmpweerf0e2/t8wuvl4r.json', 'init=/tmp/tmpweerf0e2/xnrsyewo.json', 'output', 'file=/tmp/tmpweerf0e2/prophet_modelgm8_8r7c/prophet_model-20230911111451.csv', 'method=optimize', 'algorithm=newton', 'iter=10000']\n",
            "11:14:51 - cmdstanpy - INFO - Chain [1] start processing\n",
            "INFO:cmdstanpy:Chain [1] start processing\n",
            "11:14:51 - cmdstanpy - INFO - Chain [1] done processing\n",
            "INFO:cmdstanpy:Chain [1] done processing\n",
            "INFO:prophet:Disabling weekly seasonality. Run prophet with weekly_seasonality=True to override this.\n",
            "INFO:prophet:Disabling daily seasonality. Run prophet with daily_seasonality=True to override this.\n",
            "INFO:prophet:n_changepoints greater than number of observations. Using 17.\n",
            "DEBUG:cmdstanpy:input tempfile: /tmp/tmpweerf0e2/uqwuax7r.json\n",
            "DEBUG:cmdstanpy:input tempfile: /tmp/tmpweerf0e2/ejk8kvky.json\n",
            "DEBUG:cmdstanpy:idx 0\n",
            "DEBUG:cmdstanpy:running CmdStan, num_threads: None\n",
            "DEBUG:cmdstanpy:CmdStan args: ['/usr/local/lib/python3.10/dist-packages/prophet/stan_model/prophet_model.bin', 'random', 'seed=32634', 'data', 'file=/tmp/tmpweerf0e2/uqwuax7r.json', 'init=/tmp/tmpweerf0e2/ejk8kvky.json', 'output', 'file=/tmp/tmpweerf0e2/prophet_modeli7qzzc10/prophet_model-20230911111451.csv', 'method=optimize', 'algorithm=newton', 'iter=10000']\n",
            "11:14:51 - cmdstanpy - INFO - Chain [1] start processing\n",
            "INFO:cmdstanpy:Chain [1] start processing\n",
            "11:14:51 - cmdstanpy - INFO - Chain [1] done processing\n",
            "INFO:cmdstanpy:Chain [1] done processing\n",
            "INFO:prophet:Disabling yearly seasonality. Run prophet with yearly_seasonality=True to override this.\n",
            "INFO:prophet:Disabling weekly seasonality. Run prophet with weekly_seasonality=True to override this.\n",
            "INFO:prophet:Disabling daily seasonality. Run prophet with daily_seasonality=True to override this.\n",
            "INFO:prophet:n_changepoints greater than number of observations. Using 0.\n",
            "DEBUG:cmdstanpy:input tempfile: /tmp/tmpweerf0e2/k3v53ekg.json\n",
            "DEBUG:cmdstanpy:input tempfile: /tmp/tmpweerf0e2/yl8if2aa.json\n",
            "DEBUG:cmdstanpy:idx 0\n",
            "DEBUG:cmdstanpy:running CmdStan, num_threads: None\n",
            "DEBUG:cmdstanpy:CmdStan args: ['/usr/local/lib/python3.10/dist-packages/prophet/stan_model/prophet_model.bin', 'random', 'seed=15931', 'data', 'file=/tmp/tmpweerf0e2/k3v53ekg.json', 'init=/tmp/tmpweerf0e2/yl8if2aa.json', 'output', 'file=/tmp/tmpweerf0e2/prophet_modeldl1iudw0/prophet_model-20230911111451.csv', 'method=optimize', 'algorithm=newton', 'iter=10000']\n",
            "11:14:51 - cmdstanpy - INFO - Chain [1] start processing\n",
            "INFO:cmdstanpy:Chain [1] start processing\n",
            "11:14:52 - cmdstanpy - INFO - Chain [1] done processing\n",
            "INFO:cmdstanpy:Chain [1] done processing\n",
            "INFO:prophet:Disabling yearly seasonality. Run prophet with yearly_seasonality=True to override this.\n",
            "INFO:prophet:Disabling weekly seasonality. Run prophet with weekly_seasonality=True to override this.\n",
            "INFO:prophet:Disabling daily seasonality. Run prophet with daily_seasonality=True to override this.\n",
            "INFO:prophet:n_changepoints greater than number of observations. Using 4.\n",
            "DEBUG:cmdstanpy:input tempfile: /tmp/tmpweerf0e2/kipqz6aj.json\n",
            "DEBUG:cmdstanpy:input tempfile: /tmp/tmpweerf0e2/_ajrndci.json\n",
            "DEBUG:cmdstanpy:idx 0\n",
            "DEBUG:cmdstanpy:running CmdStan, num_threads: None\n",
            "DEBUG:cmdstanpy:CmdStan args: ['/usr/local/lib/python3.10/dist-packages/prophet/stan_model/prophet_model.bin', 'random', 'seed=82074', 'data', 'file=/tmp/tmpweerf0e2/kipqz6aj.json', 'init=/tmp/tmpweerf0e2/_ajrndci.json', 'output', 'file=/tmp/tmpweerf0e2/prophet_modelqi_y0z9e/prophet_model-20230911111452.csv', 'method=optimize', 'algorithm=newton', 'iter=10000']\n",
            "11:14:52 - cmdstanpy - INFO - Chain [1] start processing\n",
            "INFO:cmdstanpy:Chain [1] start processing\n",
            "11:14:52 - cmdstanpy - INFO - Chain [1] done processing\n",
            "INFO:cmdstanpy:Chain [1] done processing\n",
            "INFO:prophet:Disabling weekly seasonality. Run prophet with weekly_seasonality=True to override this.\n",
            "INFO:prophet:Disabling daily seasonality. Run prophet with daily_seasonality=True to override this.\n",
            "INFO:prophet:n_changepoints greater than number of observations. Using 17.\n",
            "DEBUG:cmdstanpy:input tempfile: /tmp/tmpweerf0e2/pcazf4hm.json\n",
            "DEBUG:cmdstanpy:input tempfile: /tmp/tmpweerf0e2/lcrhtzvi.json\n",
            "DEBUG:cmdstanpy:idx 0\n",
            "DEBUG:cmdstanpy:running CmdStan, num_threads: None\n",
            "DEBUG:cmdstanpy:CmdStan args: ['/usr/local/lib/python3.10/dist-packages/prophet/stan_model/prophet_model.bin', 'random', 'seed=68093', 'data', 'file=/tmp/tmpweerf0e2/pcazf4hm.json', 'init=/tmp/tmpweerf0e2/lcrhtzvi.json', 'output', 'file=/tmp/tmpweerf0e2/prophet_modelw7jwey7p/prophet_model-20230911111452.csv', 'method=optimize', 'algorithm=newton', 'iter=10000']\n",
            "11:14:52 - cmdstanpy - INFO - Chain [1] start processing\n",
            "INFO:cmdstanpy:Chain [1] start processing\n",
            "11:14:52 - cmdstanpy - INFO - Chain [1] done processing\n",
            "INFO:cmdstanpy:Chain [1] done processing\n",
            "INFO:prophet:Disabling weekly seasonality. Run prophet with weekly_seasonality=True to override this.\n",
            "INFO:prophet:Disabling daily seasonality. Run prophet with daily_seasonality=True to override this.\n",
            "INFO:prophet:n_changepoints greater than number of observations. Using 7.\n",
            "DEBUG:cmdstanpy:input tempfile: /tmp/tmpweerf0e2/yojtu2ml.json\n",
            "DEBUG:cmdstanpy:input tempfile: /tmp/tmpweerf0e2/9dbg6erz.json\n",
            "DEBUG:cmdstanpy:idx 0\n",
            "DEBUG:cmdstanpy:running CmdStan, num_threads: None\n",
            "DEBUG:cmdstanpy:CmdStan args: ['/usr/local/lib/python3.10/dist-packages/prophet/stan_model/prophet_model.bin', 'random', 'seed=57049', 'data', 'file=/tmp/tmpweerf0e2/yojtu2ml.json', 'init=/tmp/tmpweerf0e2/9dbg6erz.json', 'output', 'file=/tmp/tmpweerf0e2/prophet_modele8mg0twz/prophet_model-20230911111452.csv', 'method=optimize', 'algorithm=newton', 'iter=10000']\n",
            "11:14:52 - cmdstanpy - INFO - Chain [1] start processing\n",
            "INFO:cmdstanpy:Chain [1] start processing\n",
            "11:14:52 - cmdstanpy - INFO - Chain [1] done processing\n",
            "INFO:cmdstanpy:Chain [1] done processing\n",
            "INFO:prophet:Disabling weekly seasonality. Run prophet with weekly_seasonality=True to override this.\n",
            "INFO:prophet:Disabling daily seasonality. Run prophet with daily_seasonality=True to override this.\n",
            "INFO:prophet:n_changepoints greater than number of observations. Using 17.\n",
            "DEBUG:cmdstanpy:input tempfile: /tmp/tmpweerf0e2/db1y_rnw.json\n",
            "DEBUG:cmdstanpy:input tempfile: /tmp/tmpweerf0e2/9yqb02k_.json\n",
            "DEBUG:cmdstanpy:idx 0\n",
            "DEBUG:cmdstanpy:running CmdStan, num_threads: None\n",
            "DEBUG:cmdstanpy:CmdStan args: ['/usr/local/lib/python3.10/dist-packages/prophet/stan_model/prophet_model.bin', 'random', 'seed=40687', 'data', 'file=/tmp/tmpweerf0e2/db1y_rnw.json', 'init=/tmp/tmpweerf0e2/9yqb02k_.json', 'output', 'file=/tmp/tmpweerf0e2/prophet_modelpbetmo6f/prophet_model-20230911111452.csv', 'method=optimize', 'algorithm=newton', 'iter=10000']\n",
            "11:14:52 - cmdstanpy - INFO - Chain [1] start processing\n",
            "INFO:cmdstanpy:Chain [1] start processing\n",
            "11:14:52 - cmdstanpy - INFO - Chain [1] done processing\n",
            "INFO:cmdstanpy:Chain [1] done processing\n",
            "INFO:prophet:Disabling weekly seasonality. Run prophet with weekly_seasonality=True to override this.\n",
            "INFO:prophet:Disabling daily seasonality. Run prophet with daily_seasonality=True to override this.\n",
            "INFO:prophet:n_changepoints greater than number of observations. Using 17.\n",
            "DEBUG:cmdstanpy:input tempfile: /tmp/tmpweerf0e2/7dyjnfs2.json\n",
            "DEBUG:cmdstanpy:input tempfile: /tmp/tmpweerf0e2/oeyaoxrg.json\n",
            "DEBUG:cmdstanpy:idx 0\n",
            "DEBUG:cmdstanpy:running CmdStan, num_threads: None\n",
            "DEBUG:cmdstanpy:CmdStan args: ['/usr/local/lib/python3.10/dist-packages/prophet/stan_model/prophet_model.bin', 'random', 'seed=34054', 'data', 'file=/tmp/tmpweerf0e2/7dyjnfs2.json', 'init=/tmp/tmpweerf0e2/oeyaoxrg.json', 'output', 'file=/tmp/tmpweerf0e2/prophet_model_gt4rxfh/prophet_model-20230911111452.csv', 'method=optimize', 'algorithm=newton', 'iter=10000']\n",
            "11:14:52 - cmdstanpy - INFO - Chain [1] start processing\n",
            "INFO:cmdstanpy:Chain [1] start processing\n",
            "11:14:52 - cmdstanpy - INFO - Chain [1] done processing\n",
            "INFO:cmdstanpy:Chain [1] done processing\n",
            "INFO:prophet:Disabling yearly seasonality. Run prophet with yearly_seasonality=True to override this.\n",
            "INFO:prophet:Disabling weekly seasonality. Run prophet with weekly_seasonality=True to override this.\n",
            "INFO:prophet:Disabling daily seasonality. Run prophet with daily_seasonality=True to override this.\n",
            "INFO:prophet:n_changepoints greater than number of observations. Using 4.\n",
            "DEBUG:cmdstanpy:input tempfile: /tmp/tmpweerf0e2/9ya2tf8r.json\n",
            "DEBUG:cmdstanpy:input tempfile: /tmp/tmpweerf0e2/_0_8tkdl.json\n",
            "DEBUG:cmdstanpy:idx 0\n",
            "DEBUG:cmdstanpy:running CmdStan, num_threads: None\n",
            "DEBUG:cmdstanpy:CmdStan args: ['/usr/local/lib/python3.10/dist-packages/prophet/stan_model/prophet_model.bin', 'random', 'seed=84015', 'data', 'file=/tmp/tmpweerf0e2/9ya2tf8r.json', 'init=/tmp/tmpweerf0e2/_0_8tkdl.json', 'output', 'file=/tmp/tmpweerf0e2/prophet_modeleh9jcfw6/prophet_model-20230911111453.csv', 'method=optimize', 'algorithm=newton', 'iter=10000']\n",
            "11:14:53 - cmdstanpy - INFO - Chain [1] start processing\n",
            "INFO:cmdstanpy:Chain [1] start processing\n",
            "11:14:53 - cmdstanpy - INFO - Chain [1] done processing\n",
            "INFO:cmdstanpy:Chain [1] done processing\n"
          ]
        },
        {
          "output_type": "stream",
          "name": "stdout",
          "text": [
            "------예측 매출이 높은 상위 5개 서비스 업종------\n",
            "          ds          yhat service_code\n",
            "4 2023-02-28  7.530674e+09       300024\n",
            "4 2023-02-28  4.646843e+09       300018\n",
            "4 2023-02-28  3.879688e+09       300031\n",
            "4 2023-02-28  2.293514e+09       300002\n",
            "4 2023-02-28  1.057752e+09       300038\n",
            "-------------------------------------------------\n",
            "서비스업종코드: 300024, 서비스업종명: 운동/경기용품\n",
            "서비스업종코드: 300018, 서비스업종명: 의약품\n",
            "서비스업종코드: 300031, 서비스업종명: 가구\n",
            "서비스업종코드: 300002, 서비스업종명: 편의점\n",
            "서비스업종코드: 300038, 서비스업종명: 자동차부품\n"
          ]
        },
        {
          "output_type": "display_data",
          "data": {
            "text/plain": [
              "<Figure size 2000x800 with 1 Axes>"
            ],
            "image/png": "[encoded data removed]"
          },
          "metadata": {}
        },
        {
          "output_type": "stream",
          "name": "stdout",
          "text": [
            "Top 5 서비스 업종: ['운동/경기용품', '의약품', '가구', '편의점', '자동차부품']\n"
          ]
        }
      ]
    },
    {
      "cell_type": "code",
      "source": [
        "df_service =pd.read_csv('/content/drive/MyDrive/[최종프로젝트]_우리FISA/0911/업종_분류.csv',encoding='euc-kr')\n",
        "df_service = df_service[['서비스_업종_코드_명','서비스_업종_코드']]\n",
        "df_service['서비스_업종_코드'] = df_service['서비스_업종_코드'].str.replace('CS', '')\n",
        "df_service['서비스_업종_코드'] = df_service['서비스_업종_코드'].astype(int)"
      ],
      "metadata": {
        "colab": {
          "base_uri": "https://localhost:8080/"
        },
        "id": "14SYE8lgyFRx",
        "outputId": "6fbfbbf6-5fff-4f29-8aa2-cdfcaf1cc303"
      },
      "execution_count": null,
      "outputs": [
        {
          "output_type": "stream",
          "name": "stdout",
          "text": [
            "Empty DataFrame\n",
            "Columns: [서비스_업종_코드_명, 서비스_업종_코드]\n",
            "Index: []\n"
          ]
        }
      ]
    },
    {
      "cell_type": "code",
      "source": [
        "# df_service에서 '서비스_업종_코드_명' 컬럼과 '서비스_업종_코드' 컬럼 설정\n",
        "df_service = df_service[['서비스_업종_코드_명', '서비스_업종_코드']]\n",
        "df_service['서비스_업종_코드'] = df_service['서비스_업종_코드'].str.replace('CS', '')\n",
        "df_service['서비스_업종_코드'] = df_service['서비스_업종_코드'].astype(int)\n",
        "\n",
        "# df_service에서 '서비스_업종_코드'와 일치하는 '서비스_업종_코드_명' 가져오기\n",
        "        df_service_filtered = df_service[df_service['서비스_업종_코드'] == service_code]\n",
        "        if not df_service_filtered.empty:\n",
        "            service_name = df_service_filtered.iloc[0]['서비스_업종_코드_명']\n",
        "            print(f'Service Code: {service_code}, Service Name: {service_name}')\n"
      ],
      "metadata": {
        "id": "Ix_jfbL35h-g"
      },
      "execution_count": null,
      "outputs": []
    },
    {
      "cell_type": "markdown",
      "source": [
        "# 한글 폰트 깨질 때"
      ],
      "metadata": {
        "id": "AFkEzY7ChRRD"
      }
    },
    {
      "cell_type": "code",
      "source": [
        "# 코랩에서 한글 폰트 깨지는 현상 해결을 위해 한국어 폰트들을 설치합니다\n",
        "!sudo apt-get install -y fonts-nanum # 매직메소드\n",
        "!sudo fc-cache -fv\n",
        "!rm ~/.cache/matplotlib -rf\n",
        "# 이후 런타임 재시작해주세요"
      ],
      "metadata": {
        "id": "mRhpvQz_P30L",
        "colab": {
          "base_uri": "https://localhost:8080/"
        },
        "outputId": "0185b372-2738-4352-8d69-bc782e5a4f78"
      },
      "execution_count": null,
      "outputs": [
        {
          "output_type": "stream",
          "name": "stdout",
          "text": [
            "Reading package lists... Done\n",
            "Building dependency tree... Done\n",
            "Reading state information... Done\n",
            "The following NEW packages will be installed:\n",
            "  fonts-nanum\n",
            "0 upgraded, 1 newly installed, 0 to remove and 16 not upgraded.\n",
            "Need to get 10.3 MB of archives.\n",
            "After this operation, 34.1 MB of additional disk space will be used.\n",
            "Get:1 http://archive.ubuntu.com/ubuntu jammy/universe amd64 fonts-nanum all 20200506-1 [10.3 MB]\n",
            "Fetched 10.3 MB in 1s (18.5 MB/s)\n",
            "debconf: unable to initialize frontend: Dialog\n",
            "debconf: (No usable dialog-like program is installed, so the dialog based frontend cannot be used. at /usr/share/perl5/Debconf/FrontEnd/Dialog.pm line 78, <> line 1.)\n",
            "debconf: falling back to frontend: Readline\n",
            "debconf: unable to initialize frontend: Readline\n",
            "debconf: (This frontend requires a controlling tty.)\n",
            "debconf: falling back to frontend: Teletype\n",
            "dpkg-preconfigure: unable to re-open stdin: \n",
            "Selecting previously unselected package fonts-nanum.\n",
            "(Reading database ... 120901 files and directories currently installed.)\n",
            "Preparing to unpack .../fonts-nanum_20200506-1_all.deb ...\n",
            "Unpacking fonts-nanum (20200506-1) ...\n",
            "Setting up fonts-nanum (20200506-1) ...\n",
            "Processing triggers for fontconfig (2.13.1-4.2ubuntu5) ...\n",
            "/usr/share/fonts: caching, new cache contents: 0 fonts, 1 dirs\n",
            "/usr/share/fonts/truetype: caching, new cache contents: 0 fonts, 3 dirs\n",
            "/usr/share/fonts/truetype/humor-sans: caching, new cache contents: 1 fonts, 0 dirs\n",
            "/usr/share/fonts/truetype/liberation: caching, new cache contents: 16 fonts, 0 dirs\n",
            "/usr/share/fonts/truetype/nanum: caching, new cache contents: 12 fonts, 0 dirs\n",
            "/usr/local/share/fonts: caching, new cache contents: 0 fonts, 0 dirs\n",
            "/root/.local/share/fonts: skipping, no such directory\n",
            "/root/.fonts: skipping, no such directory\n",
            "/usr/share/fonts/truetype: skipping, looped directory detected\n",
            "/usr/share/fonts/truetype/humor-sans: skipping, looped directory detected\n",
            "/usr/share/fonts/truetype/liberation: skipping, looped directory detected\n",
            "/usr/share/fonts/truetype/nanum: skipping, looped directory detected\n",
            "/var/cache/fontconfig: cleaning cache directory\n",
            "/root/.cache/fontconfig: not cleaning non-existent cache directory\n",
            "/root/.fontconfig: not cleaning non-existent cache directory\n",
            "fc-cache: succeeded\n"
          ]
        }
      ]
    },
    {
      "cell_type": "code",
      "source": [
        "# %matplotlib inline  # 버전이 낮은 노트북에서 그래프가 바로 뜨지 않을 때 사용 % 쉘메소드\n",
        "\n",
        "import matplotlib as mpl  # 기본 설정 만지는 용도\n",
        "import matplotlib.pyplot as plt  # 그래프 그리는 용도\n",
        "import matplotlib.font_manager as fm # 폰트 관련 용도"
      ],
      "metadata": {
        "id": "ld_N5_CXP6DY"
      },
      "execution_count": null,
      "outputs": []
    },
    {
      "cell_type": "code",
      "source": [
        "# 한국어 깨질 때\n",
        "# 필요 라이브러리 불러오기\n",
        "import matplotlib.font_manager as fm\n",
        "import os\n",
        "import matplotlib.pyplot as plt\n",
        "# apt-get : 패키지 설치 명령어\n",
        "# -qq : 에러외의 메세지 숨기는 옵션키\n",
        "!apt-get -qq install fonts-nanum\n",
        "fe = fm.FontEntry(\n",
        "    fname=r'/usr/share/fonts/truetype/nanum/NanumGothic.ttf', # ttf 파일이 저장되어 있는 경로\n",
        "    name='NanumGothic')                        # 이 폰트의 원하는 이름 설정\n",
        "fm.fontManager.ttflist.insert(0, fe)              # Matplotlib에 폰트 추가\n",
        "plt.rcParams.update({'font.size': 18, 'font.family': 'NanumGothic'}) # 폰트 설정"
      ],
      "metadata": {
        "id": "MPeHSkVasSkK"
      },
      "execution_count": null,
      "outputs": []
    },
    {
      "cell_type": "code",
      "source": [
        "# 현재 설치된 폰트 확인해보기\n",
        "sys_font = fm.findSystemFonts()\n",
        "\n",
        "print(f\"sys_font number: {len(sys_font)}\")\n",
        "print(sys_font)\n",
        "\n",
        "nanum_font = [f for f in sys_font if 'Nanum' in f]\n",
        "print(f\"nanum_font number: {len(nanum_font)}\")"
      ],
      "metadata": {
        "id": "T474qs2JPx9Y",
        "colab": {
          "base_uri": "https://localhost:8080/"
        },
        "outputId": "dd7fb927-15ab-4243-ff41-45149b4c7a0c"
      },
      "execution_count": null,
      "outputs": [
        {
          "output_type": "stream",
          "name": "stdout",
          "text": [
            "sys_font number: 29\n",
            "['/usr/share/fonts/truetype/nanum/NanumSquareRoundR.ttf', '/usr/share/fonts/truetype/liberation/LiberationSans-Bold.ttf', '/usr/share/fonts/truetype/liberation/LiberationSerif-Bold.ttf', '/usr/share/fonts/truetype/liberation/LiberationSerif-BoldItalic.ttf', '/usr/share/fonts/truetype/nanum/NanumBarunGothicBold.ttf', '/usr/share/fonts/truetype/liberation/LiberationSansNarrow-Regular.ttf', '/usr/share/fonts/truetype/nanum/NanumGothicCoding.ttf', '/usr/share/fonts/truetype/liberation/LiberationSans-Italic.ttf', '/usr/share/fonts/truetype/liberation/LiberationSansNarrow-Bold.ttf', '/usr/share/fonts/truetype/liberation/LiberationSansNarrow-BoldItalic.ttf', '/usr/share/fonts/truetype/liberation/LiberationSansNarrow-Italic.ttf', '/usr/share/fonts/truetype/nanum/NanumSquareR.ttf', '/usr/share/fonts/truetype/nanum/NanumBarunGothic.ttf', '/usr/share/fonts/truetype/nanum/NanumMyeongjoBold.ttf', '/usr/share/fonts/truetype/nanum/NanumGothicCodingBold.ttf', '/usr/share/fonts/truetype/nanum/NanumSquareB.ttf', '/usr/share/fonts/truetype/humor-sans/Humor-Sans.ttf', '/usr/share/fonts/truetype/liberation/LiberationSerif-Italic.ttf', '/usr/share/fonts/truetype/nanum/NanumGothicBold.ttf', '/usr/share/fonts/truetype/nanum/NanumMyeongjo.ttf', '/usr/share/fonts/truetype/liberation/LiberationSerif-Regular.ttf', '/usr/share/fonts/truetype/liberation/LiberationMono-Regular.ttf', '/usr/share/fonts/truetype/nanum/NanumSquareRoundB.ttf', '/usr/share/fonts/truetype/liberation/LiberationMono-Bold.ttf', '/usr/share/fonts/truetype/liberation/LiberationSans-Regular.ttf', '/usr/share/fonts/truetype/liberation/LiberationMono-Italic.ttf', '/usr/share/fonts/truetype/liberation/LiberationMono-BoldItalic.ttf', '/usr/share/fonts/truetype/nanum/NanumGothic.ttf', '/usr/share/fonts/truetype/liberation/LiberationSans-BoldItalic.ttf']\n",
            "nanum_font number: 12\n"
          ]
        }
      ]
    },
    {
      "cell_type": "code",
      "source": [],
      "metadata": {
        "id": "bp34pmuJIKy3"
      },
      "execution_count": null,
      "outputs": []
    },
    {
      "cell_type": "code",
      "source": [],
      "metadata": {
        "id": "t5Sb64-yIKwQ"
      },
      "execution_count": null,
      "outputs": []
    }
  ]
}